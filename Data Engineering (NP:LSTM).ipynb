{
 "metadata": {
  "kernelspec": {
   "display_name": "Streamlit Notebook",
   "name": "streamlit"
  }
 },
 "nbformat_minor": 5,
 "nbformat": 4,
 "cells": [
  {
   "cell_type": "markdown",
   "id": "58e8b55e-6171-409a-bc46-52fe345b8abb",
   "metadata": {
    "name": "cell1",
    "collapsed": false,
    "resultHeight": 499
   },
   "source": "# Data engineering for NeuralProphet/LSTM (Store_chain_id = 2)\n\nOverall Process:\n- Extract and group transactions for store chain id = 2\n- Remove outliers\n- Check for NULL values \n- Create new features\n    1. Weekend vs Weekday flag )\n    2. Daily number of customers \n    3. Purchase amount/Purchase quantity\n- Create separate dataset for z-score filtered data (for testing model performance)\n\nPackages:\n1. pandas\n2. matplotlib\n3. scipy"
  },
  {
   "cell_type": "markdown",
   "id": "625827c9-c7d0-41d7-b262-039ba2b256d7",
   "metadata": {
    "name": "cell2",
    "collapsed": false,
    "resultHeight": 91
   },
   "source": "### 1. Extract transactions with store_chain_id = 2\n- Total number of rows = 3,773,005"
  },
  {
   "cell_type": "code",
   "id": "1c0c774a-7402-4d66-89a8-7d6f4c8ddc94",
   "metadata": {
    "language": "sql",
    "name": "cell3"
   },
   "outputs": [],
   "source": "-- Extract transaction data for store chain = 2\nCREATE OR REPLACE TABLE store_2_preprocessed_transactions AS\nSELECT * FROM preprocessed_transactions\nWHERE store_chain_id = 2;",
   "execution_count": null
  },
  {
   "cell_type": "code",
   "id": "0c125ba1-c63c-46b6-a257-a57b5572eca8",
   "metadata": {
    "language": "sql",
    "name": "cell4"
   },
   "outputs": [],
   "source": "SELECT * FROM store_2_preprocessed_transactions;",
   "execution_count": null
  },
  {
   "cell_type": "markdown",
   "id": "b92699a1-b120-4385-b79d-29bf4638274c",
   "metadata": {
    "name": "cell13",
    "collapsed": false,
    "resultHeight": 148
   },
   "source": "### 2. Remove outliers \n- Based on box plots, outliers are as followed:\n    1. Purchase amount > 3000\n    2. Purchase quantity > 400"
  },
  {
   "cell_type": "code",
   "id": "3124975e-e545-4bd5-8360-2b37c927ce91",
   "metadata": {
    "language": "python",
    "name": "cell16",
    "collapsed": false,
    "codeCollapsed": false
   },
   "outputs": [],
   "source": "import matplotlib.pyplot as plt\nimport pandas as pd\n\nsession = get_active_session()\nsession.use_database(\"ml\")\nsession.use_schema(\"retail_store\")\n\ntransactions_df = session.table(\"store_2_preprocessed_transactions\").select(\"purchase_amount\", \"purchase_quantity\")\ntransactions_df = transactions_df.to_pandas()",
   "execution_count": null
  },
  {
   "cell_type": "markdown",
   "id": "836a62bd-41a1-476f-b3a7-24d0db97cadf",
   "metadata": {
    "name": "cell14",
    "collapsed": false,
    "resultHeight": 44
   },
   "source": "- Purchase amount outlier"
  },
  {
   "cell_type": "code",
   "id": "9b418f4c-0895-496c-b3c1-b75e2abe2e0a",
   "metadata": {
    "language": "python",
    "name": "cell17"
   },
   "outputs": [],
   "source": "# Purchase amount box plot\nplt.figure(figsize =(3, 3))\nplt.boxplot(transactions_df[\"PURCHASE_AMOUNT\"])\nplt.show()",
   "execution_count": null
  },
  {
   "cell_type": "markdown",
   "id": "27255c5a-326d-4fa5-ae53-dc8d0489f942",
   "metadata": {
    "name": "cell19",
    "collapsed": false,
    "resultHeight": 44
   },
   "source": "- Remove purchase amount > 3000 and plot boxplot again."
  },
  {
   "cell_type": "code",
   "id": "4d77b037-c0b3-4c05-8ffe-77afdf34d154",
   "metadata": {
    "language": "python",
    "name": "cell18"
   },
   "outputs": [],
   "source": "# Purchase amount outlier filtered box plot\ntransactions_df = transactions_df.loc[transactions_df[\"PURCHASE_AMOUNT\"] < 3000]\nplt.figure(figsize =(3, 3))\nplt.boxplot(transactions_df[\"PURCHASE_AMOUNT\"])\nplt.show()",
   "execution_count": null
  },
  {
   "cell_type": "markdown",
   "id": "ed26a09f-6b9a-48c5-9e07-2277bf00e19d",
   "metadata": {
    "name": "cell15",
    "collapsed": false,
    "resultHeight": 44
   },
   "source": "- Purchase quantity outlier"
  },
  {
   "cell_type": "code",
   "id": "53e93b98-8eb8-46e7-a037-ce7c275858d6",
   "metadata": {
    "language": "python",
    "name": "cell20"
   },
   "outputs": [],
   "source": "# Purchase quantity box plot\nplt.figure(figsize =(3, 3))\nplt.boxplot(transactions_df[\"PURCHASE_QUANTITY\"])\nplt.show()",
   "execution_count": null
  },
  {
   "cell_type": "markdown",
   "id": "64a55d02-a476-407c-955a-8b5b3be0fcd0",
   "metadata": {
    "name": "cell22",
    "collapsed": false,
    "resultHeight": 44
   },
   "source": "- Remove purchase_quantity > 400 and plot boxplot again."
  },
  {
   "cell_type": "code",
   "id": "1e1d10bf-63dc-49bc-9800-94be237d36a8",
   "metadata": {
    "language": "python",
    "name": "cell21"
   },
   "outputs": [],
   "source": "# Purchase quantity filtered box plot\ntransactions_df = transactions_df.loc[transactions_df[\"PURCHASE_QUANTITY\"] < 400]\nplt.figure(figsize =(3, 3))\nplt.boxplot(transactions_df[\"PURCHASE_QUANTITY\"])\nplt.show()",
   "execution_count": null
  },
  {
   "cell_type": "markdown",
   "id": "593f4fda-e674-4c5f-be03-5c5e95c35af4",
   "metadata": {
    "name": "cell24",
    "collapsed": false,
    "resultHeight": 131
   },
   "source": "- Filter purchase_amount & purchase_quantity from dataset. \n- Outliers are shown below:\n    - Purchase amount > 3000\n    - Purchase quantity > 400"
  },
  {
   "cell_type": "code",
   "id": "1a400349-f79d-418b-a146-0fa4f276b402",
   "metadata": {
    "language": "sql",
    "name": "cell23"
   },
   "outputs": [],
   "source": "-- Remove outliers stated above\nCREATE OR REPLACE TABLE store_2_preprocessed_transactions AS\nSELECT * FROM store_2_preprocessed_transactions\nWHERE \n    purchase_amount < 3000 AND\n    purchase_quantity < 400;\n",
   "execution_count": null
  },
  {
   "cell_type": "markdown",
   "id": "7b687c0b-419f-4948-bc8f-7e774f7274f2",
   "metadata": {
    "name": "cell36",
    "collapsed": false,
    "resultHeight": 44
   },
   "source": "- To test out z-score filtering model performance"
  },
  {
   "cell_type": "code",
   "id": "5191807f-d852-49c3-8b1c-7264e871049e",
   "metadata": {
    "language": "sql",
    "name": "cell38"
   },
   "outputs": [],
   "source": "CREATE OR REPLACE TABLE store_2_z_score_preprocessed_transactions AS\nSELECT date, store_chain_id, purchase_amount FROM preprocessed_transactions\nWHERE store_chain_id = 2;",
   "execution_count": null
  },
  {
   "cell_type": "code",
   "id": "7cca779e-25f4-4b9e-8a5a-bf2e7046ba4f",
   "metadata": {
    "language": "python",
    "name": "cell37"
   },
   "outputs": [],
   "source": "from scipy import stats\nimport matplotlib.pyplot as plt\n\nsession = get_active_session()\nsession.use_database(\"ml\")\nsession.use_schema(\"retail_store\")\n\nz_transactions_df = session.table(\"store_2_z_score_preprocessed_transactions\").select(\"purchase_amount\")\nz_transactions_df = z_transactions_df.to_pandas()\n\nz_transactions_df[\"z_score\"] = stats.zscore(z_transactions_df[\"PURCHASE_AMOUNT\"])\nz_score_filtered_df = z_transactions_df[z_transactions_df[\"z_score\"].abs() <= 4]\n\nplt.figure(figsize =(3, 3))\nplt.boxplot(filtered_data[\"PURCHASE_AMOUNT\"])\nplt.show()",
   "execution_count": null
  },
  {
   "cell_type": "code",
   "id": "4fe0e814-77ff-48cf-ab58-a8e02b2560e0",
   "metadata": {
    "language": "sql",
    "name": "cell39"
   },
   "outputs": [],
   "source": "CREATE OR REPLACE TABLE store_2_z_score_preprocessed_transactions AS\nWITH stats AS (\n    SELECT \n        AVG(purchase_amount) AS mean_value,\n        STDDEV(purchase_amount) AS stddev_value,\n    FROM\n        store_2_z_score_preprocessed_transactions\n),\nz_scores AS (\n    SELECT\n        date,\n        store_chain_id,\n        purchase_amount,\n        (purchase_amount - stats.mean_value) / stats.stddev_value as z_score\n    FROM \n        store_2_z_score_preprocessed_transactions,\n        stats\n)\nSELECT \n    date,\n    store_chain_id, \n    SUM(purchase_amount) AS total_sales\nFROM \n    z_scores\nWHERE \n    ABS(z_score) <= 3    \nGROUP BY store_chain_id, date\nORDER BY store_chain_id, date; ",
   "execution_count": null
  },
  {
   "cell_type": "markdown",
   "id": "a8e0b5c2-6f35-434b-974d-40310a4a0a6e",
   "metadata": {
    "name": "cell5",
    "collapsed": false,
    "resultHeight": 177
   },
   "source": "### 3. Group transactions by store chain id and date.\n- Filter out transaction rows where date >= min(offer_date)\n- Aggregate total purchase amount per day\n- Aggregate total customers per day\n- Aggregate total purchase amount per purchase quantity per day\n"
  },
  {
   "cell_type": "code",
   "id": "e67ed8b5-cc12-42a1-9c5f-519ba493fa6b",
   "metadata": {
    "language": "sql",
    "name": "cell6"
   },
   "outputs": [],
   "source": "CREATE OR REPLACE TABLE store_2_preprocessed_transactions AS\nWITH filtered_transactions AS (\n    SELECT \n        store_chain_id,\n        date,\n        customer_id,\n        purchase_quantity,\n        purchase_amount, \n        offer_date\n    FROM store_2_preprocessed_transactions\n    WHERE\n        (SELECT COUNT(offer_date) FROM store_preprocessed_transactions) = 0 OR\n        date < (SELECT MIN(offer_date) FROM store_2_preprocessed_transactions)\n)\nSELECT \n    store_chain_id,\n    date,\n    SUM(purchase_amount) AS total_sales,\n    COUNT(DISTINCT customer_id) AS total_customers,\n    SUM(purchase_amount) / NULLIF(SUM(purchase_quantity), 0) AS purchase_amt_per_qty\nFROM filtered_transactions\nGROUP BY store_chain_id, date\nORDER BY store_chain_id, date;\n",
   "execution_count": null
  },
  {
   "cell_type": "markdown",
   "id": "f6e65256-a1f1-4d52-801b-33b96920231b",
   "metadata": {
    "name": "cell7",
    "collapsed": false,
    "resultHeight": 46
   },
   "source": "### 4. Create a new flag feature to capture weekend vs weekday."
  },
  {
   "cell_type": "code",
   "id": "1ddbafd1-cfc5-4608-9a31-e1b6cd6fd549",
   "metadata": {
    "language": "sql",
    "name": "cell8",
    "collapsed": false,
    "codeCollapsed": false
   },
   "outputs": [],
   "source": "ALTER TABLE store_2_preprocessed_transactions\nADD COLUMN IF NOT EXISTS flag_weekend BOOLEAN;\n\nUPDATE store_2_preprocessed_transactions\nSET flag_weekend =\n    CASE \n        WHEN EXTRACT (DOW FROM date) IN (0,6)\n        THEN TRUE\n        ELSE FALSE\n    END;",
   "execution_count": null
  },
  {
   "cell_type": "markdown",
   "id": "4e9eb917-9ec5-4c27-93ee-2cacf49cdfdc",
   "metadata": {
    "name": "cell9",
    "collapsed": false,
    "resultHeight": 46
   },
   "source": "### 5. Impute 0 for missing dates"
  },
  {
   "cell_type": "code",
   "id": "399cd6c4-a6e8-47eb-8ec0-4a451b9b7421",
   "metadata": {
    "language": "sql",
    "name": "cell10",
    "collapsed": false,
    "codeCollapsed": false
   },
   "outputs": [],
   "source": "CREATE OR REPLACE TABLE store_2_preprocessed_transactions AS\nWITH date_range AS(\n    SELECT \n        MIN(date) AS min_date,\n        MAX(date) AS max_date,\n    FROM store_2_preprocessed_transactions\n),\n\n-- Create date table\ndate_table AS (\n    SELECT \n        min_date AS date,\n        max_date \n    FROM date_range\n    UNION ALL\n    SELECT\n        DATEADD(day, 1, date),\n        max_date\n    FROM date_table\n    WHERE date_table.date < date_table.max_date\n)\n\n-- Left join with transactions table\nSELECT \n    dt.date,\n    COALESCE(s.store_chain_id, 2) AS store_chain_id,\n    COALESCE(s.total_sales, 0) AS total_sales,\n    COALESCE(s.total_customers, 0) AS total_customers,\n    COALESCE(s.purchase_amt_per_qty, 0) AS purchase_amt_per_qty,\n    COALESCE(s.flag_weekend, CASE WHEN EXTRACT(DOW FROM dt.DATE) IN (0, 6) THEN TRUE ELSE FALSE END) AS flag_weekend\nFROM date_table dt\nLEFT JOIN store_2_preprocessed_transactions s\n    ON dt.date = s.date\nORDER BY s.date;",
   "execution_count": null
  },
  {
   "cell_type": "markdown",
   "id": "e7be5d2e-6b13-4f0a-908b-3b5ba254553c",
   "metadata": {
    "name": "cell11",
    "collapsed": false,
    "resultHeight": 120
   },
   "source": "### 6. Remove outliers\n- total customers per day\n- purchase amount per quantity"
  },
  {
   "cell_type": "code",
   "id": "f091bbd0-9533-4514-9aed-85e1dbec3893",
   "metadata": {
    "language": "python",
    "name": "cell25"
   },
   "outputs": [],
   "source": "transactions_df = session.table(\"store_2_preprocessed_transactions\").select(\"total_customers\", \"purchase_amt_per_qty\")\ntransactions_df = transactions_df.to_pandas()",
   "execution_count": null
  },
  {
   "cell_type": "code",
   "id": "efec7468-2120-48ad-adb5-9415536a44fe",
   "metadata": {
    "language": "python",
    "name": "cell26"
   },
   "outputs": [],
   "source": "plt.figure(figsize =(3, 3))\nplt.boxplot(transactions_df[\"TOTAL_CUSTOMERS\"])\nplt.show()",
   "execution_count": null
  },
  {
   "cell_type": "code",
   "id": "85c6fafd-839e-4f8f-84ce-96f7589b2898",
   "metadata": {
    "language": "python",
    "name": "cell27"
   },
   "outputs": [],
   "source": "plt.figure(figsize =(3, 3))\nplt.boxplot(transactions_df[\"PURCHASE_AMT_PER_QTY\"])\nplt.show()",
   "execution_count": null
  },
  {
   "cell_type": "markdown",
   "id": "5247696a-3159-411f-9d72-77a0e5d7dcf8",
   "metadata": {
    "name": "cell29",
    "collapsed": false,
    "resultHeight": 46
   },
   "source": "### 7. Change flag_weekend into binary"
  },
  {
   "cell_type": "code",
   "id": "47a2f801-5e03-42e4-ada4-e4ab4bf7f35d",
   "metadata": {
    "language": "sql",
    "name": "cell30"
   },
   "outputs": [],
   "source": "CREATE OR REPLACE TABLE store_2_preprocessed_transactions AS\nSELECT \n    date,\n    store_chain_id, \n    total_sales,\n    total_customers,\n    purchase_amt_per_qty,\n    CASE \n        WHEN flag_weekend = TRUE THEN 1\n        WHEN flag_weekend = FALSE THEN 0\n    END AS flag_weekend\nFROM store_2_preprocessed_transactions;",
   "execution_count": null
  },
  {
   "cell_type": "markdown",
   "id": "1cbdcd24-1690-4f71-b7b5-d0296cf0a66e",
   "metadata": {
    "name": "cell31",
    "collapsed": false,
    "resultHeight": 46
   },
   "source": "### 8. Check for any NULL values"
  },
  {
   "cell_type": "code",
   "id": "92463600-17cf-4a89-b8af-f055d0a14e6c",
   "metadata": {
    "language": "python",
    "name": "cell32"
   },
   "outputs": [],
   "source": "transactions_df = session.table(\"store_2_preprocessed_transactions\").select(\"*\")\ntransactions_df = transactions_df.to_pandas()",
   "execution_count": null
  },
  {
   "cell_type": "code",
   "id": "7183e498-df6f-40d2-bd91-054b44894262",
   "metadata": {
    "language": "python",
    "name": "cell33"
   },
   "outputs": [],
   "source": "value = transactions_df.isnull().values.any()\nprint(value)",
   "execution_count": null
  },
  {
   "cell_type": "markdown",
   "id": "3889ead3-99b1-476b-8809-afbcf7f55e29",
   "metadata": {
    "name": "cell34",
    "collapsed": false,
    "resultHeight": 46
   },
   "source": "### 9. Sort table based on date"
  },
  {
   "cell_type": "code",
   "id": "3f1b26d9-4abf-4fb6-91a9-9fa2ffd5f5af",
   "metadata": {
    "language": "sql",
    "name": "cell35"
   },
   "outputs": [],
   "source": "CREATE OR REPLACE TABLE store_2_preprocessed_transactions AS\nSELECT * FROM store_2_preprocessed_transactions\nORDER BY date;",
   "execution_count": null
  },
  {
   "cell_type": "code",
   "id": "ad89e09b-faa4-4bef-b56d-3e8167a48149",
   "metadata": {
    "language": "sql",
    "name": "cell28"
   },
   "outputs": [],
   "source": "SELECT * FROM store_2_preprocessed_transactions;",
   "execution_count": null
  },
  {
   "cell_type": "code",
   "id": "ae4a44b8-a4d1-4de7-9caf-1940821c5eb8",
   "metadata": {
    "language": "python",
    "name": "cell12"
   },
   "outputs": [],
   "source": "session.close()",
   "execution_count": null
  },
  {
   "cell_type": "markdown",
   "id": "bbdaa07f-fb17-4545-8cfa-83ebd1cbb3ed",
   "metadata": {
    "name": "cell40",
    "collapsed": false,
    "resultHeight": 263
   },
   "source": "### 10. Summary\n- store_2_preprocessed_transactions table contains\n    1. DATE: DATE\n    2. STORE_CHAIN_ID: NUMBER(38,0)\n    3. TOTAL_SALES: FLOAT\n    4. TOTAL_CUSTOMERS: NUMBER(18,0)\n    5. PURCHASE_AMT_PER_QTY: FLOAT\n    6. FLAG_WEEKEND: NUMBER(1,0)\n"
  }
 ]
}