{
 "metadata": {
  "kernelspec": {
   "display_name": "Streamlit Notebook",
   "name": "streamlit"
  }
 },
 "nbformat_minor": 5,
 "nbformat": 4,
 "cells": [
  {
   "cell_type": "markdown",
   "id": "b1048a0d-6de5-4f2b-9b39-aeddf3768d94",
   "metadata": {
    "name": "cell1",
    "collapsed": false,
    "resultHeight": 215
   },
   "source": "# General preprocessing for all models.\nOverall Process:\n- Merge offer, transaction and history dataset\n- Modify negative sales amount to 0\n- Remove transaction data that are processed after the earliest offer date based on a store chain basis."
  },
  {
   "cell_type": "markdown",
   "id": "2274c8c8-e737-40ca-ba07-b7c9c1d8b3ee",
   "metadata": {
    "name": "cell3",
    "collapsed": false,
    "resultHeight": 91
   },
   "source": "### 1. Create a duplicate transactions table\n- New table name: preprocessed_transactions\n"
  },
  {
   "cell_type": "code",
   "id": "e27d6f7d-277f-4f68-b73e-15d403560698",
   "metadata": {
    "language": "sql",
    "name": "cell2",
    "collapsed": false
   },
   "outputs": [],
   "source": "CREATE OR REPLACE TABLE preprocessed_transactions AS\nSELECT * FROM transactions;",
   "execution_count": null
  },
  {
   "cell_type": "markdown",
   "id": "4c3f61c4-b4c2-4b5e-9f13-fb3ac9a14bbb",
   "metadata": {
    "name": "cell4",
    "collapsed": false,
    "resultHeight": 46
   },
   "source": "### 2. Change negative sales amount to 0"
  },
  {
   "cell_type": "code",
   "id": "46d867b8-6292-4f09-8602-a2679f7229ef",
   "metadata": {
    "language": "sql",
    "name": "cell5",
    "collapsed": false
   },
   "outputs": [],
   "source": "UPDATE preprocessed_transactions\nSET purchase_amount = CASE\n    WHEN purchase_amount < 0 THEN 0\n    ELSE purchase_amount\nEND;",
   "execution_count": null
  },
  {
   "cell_type": "markdown",
   "id": "7fc3f110-0340-4bcc-9521-729cb6dce0cd",
   "metadata": {
    "name": "cell6",
    "collapsed": false,
    "resultHeight": 46
   },
   "source": "### 3. Merge offer and history table"
  },
  {
   "cell_type": "code",
   "id": "06acf4a1-06d8-43ff-81cc-0675ec58718f",
   "metadata": {
    "language": "sql",
    "name": "cell7",
    "collapsed": false
   },
   "outputs": [],
   "source": "CREATE OR REPLACE TEMPORARY TABLE merged_history_offer AS\nSELECT \n    h.customer_id,\n    h.store_chain_id,\n    h.offer_id, \n    h.offer_date,\n    o.product_category,\n    o.company_id,\n    o.brand_id\nFROM \n    history AS h\nLEFT JOIN \n    offers AS o\nON\n    h.offer_id = o.offer_id;",
   "execution_count": null
  },
  {
   "cell_type": "code",
   "id": "6d921ef7-dfd0-4063-9888-1863bad41d29",
   "metadata": {
    "language": "sql",
    "name": "cell10"
   },
   "outputs": [],
   "source": "SELECT TOP 1 * FROM merged_history_offer;",
   "execution_count": null
  },
  {
   "cell_type": "markdown",
   "id": "e30fba71-be93-4684-90d2-a9d45fcb623d",
   "metadata": {
    "name": "cell8",
    "collapsed": false,
    "resultHeight": 91
   },
   "source": "### 4. Merge the offer & history table to the transactions table.\n- Used to remove all transactions after the first offer date on a store chain basis."
  },
  {
   "cell_type": "code",
   "id": "f338cdcb-bb75-431b-bb45-126662703224",
   "metadata": {
    "language": "sql",
    "name": "cell9"
   },
   "outputs": [],
   "source": "CREATE OR REPLACE TABLE preprocessed_transactions AS\nSELECT \n    p.customer_id,\n    p.store_chain_id,\n    p.product_category,\n    p.company_id,\n    p.product_brand,\n    p.date,\n    p.purchase_quantity,\n    p.purchase_amount,\n    m.offer_date,\nFROM \n    preprocessed_transactions AS p\nLEFT JOIN\n    merged_history_offer AS m\nON \n    p.customer_id = m.customer_id AND\n    p.store_chain_id = m.store_chain_id AND\n    p.product_category = m.product_category AND\n    p.company_id = m.company_id AND\n    p.product_brand = m.brand_id;\n    ",
   "execution_count": null
  },
  {
   "cell_type": "code",
   "id": "8228397e-ddbe-4ed3-bbb6-716770ab6746",
   "metadata": {
    "language": "sql",
    "name": "cell11"
   },
   "outputs": [],
   "source": "SELECT * FROM preprocessed_transactions;",
   "execution_count": null
  },
  {
   "cell_type": "markdown",
   "id": "7704cf4f-26c6-4296-a896-70a0f0ab1db8",
   "metadata": {
    "name": "cell12",
    "collapsed": false,
    "resultHeight": 443
   },
   "source": "### 10. Summary\n- store_2_preprocessed_transactions table contains\n    1. CUSTOMER_ID: NUMBER(38,0)\n    2. STORE_CHAIN_ID: NUMBER(38,0)\n    3. PRODUCT_CATEGORY: NUMBER(38,0)\n    4. COMPANY_ID: NUMBER(38,0)\n    5. PRODUCT_BRAND: NUMBER(38,0)\n    6. DATE: DATE\n    7. PURCHASE_QUANTITY: NUMBER(38,0)\n    8. PURCHASE_AMOUNT: FLOAT\n    9. OFFER_DATE: DATE"
  }
 ]
}