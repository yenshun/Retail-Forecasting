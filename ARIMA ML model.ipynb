{
 "cells": [
  {
   "cell_type": "markdown",
   "id": "ff9622a4-650c-467c-b580-d0ffb43d8dc6",
   "metadata": {
    "collapsed": false,
    "name": "cell1",
    "resultHeight": 1622
   },
   "source": [
    "# ARIMA ML Model\n",
    "\n",
    "Overall Process:\n",
    "- PMDarima auto arima model with time series cross validation \n",
    "- PMDarima auto arima model with expanding window\n",
    "\n",
    "\n",
    "Packages:\n",
    "1. scikit-learn\n",
    "2. scipy\n",
    "3. snowflake-snowpark-python\n",
    "4. pandas\n",
    "5. numpy\n",
    "6. matplotlib\n",
    "7. statsmodels\n",
    "8. pmdarima (for auto arima)"
   ]
  },
  {
   "cell_type": "code",
   "execution_count": null,
   "id": "490714bc-f1c3-45ee-b56a-fb366d6e751a",
   "metadata": {
    "language": "python",
    "name": "cell2"
   },
   "outputs": [],
   "source": [
    "import time\n",
    "import math\n",
    "import pandas as pd\n",
    "import numpy as np\n",
    "import matplotlib.pyplot as plt\n",
    "\n",
    "from sklearn.metrics import mean_absolute_percentage_error as MAPE_metrics\n",
    "from sklearn.model_selection import TimeSeriesSplit\n",
    "from statsmodels.tsa.arima.model import ARIMA\n",
    "from pmdarima import auto_arima\n",
    "\n",
    "# Prediction timeframe: 14 days\n",
    "# Training timeframe: 56 days (4 weeks)\n",
    "TEST_SIZE = 14\n",
    "TRAIN_SIZE = TEST_SIZE * 4\n",
    "\n",
    "# Get preprocessed transaction data for store chain = 2\n",
    "session = get_active_session()\n",
    "session.use_database(\"ML\")\n",
    "session.use_schema(\"RETAIL_STORE\")\n",
    "\n",
    "data = session.table(\"store_2_preprocessed_transactions\").to_pandas()\n",
    "data = data[[\"DATE\", \"TOTAL_SALES\"]]\n",
    "data[\"DATE\"] = pd.to_datetime(data[\"DATE\"])\n",
    "ew_data = data.sort_values(\"DATE\") # Preserve dataframe for expanding window\n",
    "data.set_index(\"DATE\", inplace=True)"
   ]
  },
  {
   "cell_type": "markdown",
   "id": "a213c9a3-8479-482c-a832-d409fc0b1aae",
   "metadata": {
    "collapsed": false,
    "name": "cell15",
    "resultHeight": 44
   },
   "source": [
    "- Functions for future use."
   ]
  },
  {
   "cell_type": "code",
   "execution_count": null,
   "id": "f7764fea-787a-40ad-a85f-596b17808c1d",
   "metadata": {
    "collapsed": false,
    "language": "python",
    "name": "cell14"
   },
   "outputs": [],
   "source": [
    "def plot_graph(train_values, actual_values, predictions):\n",
    "    \"\"\"\n",
    "    Plot a graph showing train data, actual values and predictions.\n",
    "    \n",
    "    The function plots three lines:\n",
    "    1. Training data values\n",
    "    2. Actual test values \n",
    "    3. Predicted values\n",
    "    \n",
    "    The x-axis represents time steps and y-axis represents the values.\n",
    "\n",
    "    Args:\n",
    "        train_values: Array of training data values to plot\n",
    "        actual_values: Array of actual test values to plot\n",
    "        predictions: Array of predicted values to plot\n",
    "    \"\"\"\n",
    "    x_train = np.linspace(0, len(train_values), len(train_values))\n",
    "    x = np.linspace(len(train_values), len(train_values) + len(actual_values), len(actual_values))\n",
    "\n",
    "    plt.plot(x_train, train_values)\n",
    "    plt.plot(x, actual_values)\n",
    "    plt.plot(x, predictions)\n",
    "    plt.legend([\"Train Data\", \"Actual Sales\", \"Predictions\"])\n",
    "    plt.show()\n",
    "\n",
    "    return\n",
    "\n",
    "\n",
    "def calculate_smape(actual_values, predictions):\n",
    "    \"\"\"\n",
    "    Calculate Symmetric Mean Absolute Percentage Error (SMAPE) between actual and predicted values.\n",
    "    \n",
    "    Args:\n",
    "        actual_values: Array of actual values\n",
    "        predictions: Array of predicted values\n",
    "        \n",
    "    Returns:\n",
    "        float: SMAPE score as a percentage between 0 and 100\n",
    "    \"\"\"\n",
    "    return 100/len(actual_values) * np.sum(2 * np.abs(predictions - actual_values) / (np.abs(actual_values) + np.abs(predictions)))"
   ]
  },
  {
   "cell_type": "markdown",
   "id": "0885323b-4060-4cff-92a4-5e52d26510f4",
   "metadata": {
    "collapsed": false,
    "name": "cell3",
    "resultHeight": 46
   },
   "source": [
    "### 1. Split dataset into train and test set"
   ]
  },
  {
   "cell_type": "code",
   "execution_count": null,
   "id": "0516ee23-5f23-4d88-bc42-878030eb764d",
   "metadata": {
    "language": "python",
    "name": "cell4"
   },
   "outputs": [],
   "source": [
    "# Split data into train and test set\n",
    "X_train = data.iloc[:-TEST_SIZE]\n",
    "test_data = data.tail(TEST_SIZE)\n"
   ]
  },
  {
   "cell_type": "markdown",
   "id": "321f0b01-6b94-408c-a895-8694ee16a382",
   "metadata": {
    "collapsed": false,
    "name": "cell5",
    "resultHeight": 46
   },
   "source": [
    "### 2. Time series cross validation index split"
   ]
  },
  {
   "cell_type": "code",
   "execution_count": null,
   "id": "2250ea3b-32c3-4bef-94df-ddb67dce92c8",
   "metadata": {
    "language": "python",
    "name": "cell6"
   },
   "outputs": [],
   "source": [
    "# Time series cross validation index split\n",
    "tscv = TimeSeriesSplit(n_splits=math.floor(len(X_train)/20), max_train_size=TRAIN_SIZE, test_size=TEST_SIZE)\n",
    "tscv_split_index = tscv.split(X_train)"
   ]
  },
  {
   "cell_type": "markdown",
   "id": "a1d2a0be-a57d-4fec-bd14-10324f1e582b",
   "metadata": {
    "collapsed": false,
    "name": "cell7",
    "resultHeight": 46
   },
   "source": [
    "### 3. Fit Pmdarima auto arima model with time series cross validation\n",
    "\n",
    "Optimal results:\n",
    "- MAPE value: 0.299\n",
    "- SMAPE value: 26.751\n",
    "- Tuning time: 29.768s\n",
    "- Fitting time: 0.3192s"
   ]
  },
  {
   "cell_type": "code",
   "execution_count": null,
   "id": "25bf9834-509e-43b2-8552-b6d2236b33b4",
   "metadata": {
    "collapsed": false,
    "language": "python",
    "name": "cell8"
   },
   "outputs": [],
   "source": [
    "start_time = time.time()\n",
    "\n",
    "# Use Pmdarima to select best parameters for ARIMA model (p,d,q) and seasonal components\n",
    "AUTO_ARIMA_model_tscv = auto_arima(\n",
    "    X_train, \n",
    "    m=7,\n",
    "    start_p=1, max_p=7,\n",
    "    start_d=1, max_d=2,\n",
    "    start_q=1, max_q=7,\n",
    "    seasonal=True,\n",
    "    stepwise=True,\n",
    "    suppress_warnings=True,\n",
    "    error_action=\"ignore\"\n",
    ")\n",
    "\n",
    "end_time = time.time()\n"
   ]
  },
  {
   "cell_type": "code",
   "execution_count": null,
   "id": "2fa4d2af-329c-47d1-a45c-a59d9745dc17",
   "metadata": {
    "language": "python",
    "name": "cell9"
   },
   "outputs": [],
   "source": [
    "print(f\"ARIMA autotuning time: {end_time - start_time} seconds\")\n",
    "\n",
    "print(AUTO_ARIMA_model_tscv.summary())"
   ]
  },
  {
   "cell_type": "markdown",
   "id": "1f253fd6-34f9-4842-815b-b300fd5ec146",
   "metadata": {
    "collapsed": false,
    "name": "cell10",
    "resultHeight": 44
   },
   "source": [
    "- Test accuracy of ARIMA model using time series cross validation"
   ]
  },
  {
   "cell_type": "code",
   "execution_count": null,
   "id": "5583e158-9c2d-49d2-88bd-abcc20b3227d",
   "metadata": {
    "codeCollapsed": false,
    "collapsed": true,
    "language": "python",
    "name": "cell11"
   },
   "outputs": [],
   "source": [
    "# Test accuracy of ARIMA model\n",
    "MAPE_values_tscv = []\n",
    "\n",
    "for train_index, val_index in tscv_split_index:\n",
    "    train_data = X_train.iloc[train_index]\n",
    "    val_data = X_train.iloc[val_index]\n",
    "    \n",
    "    # Obtain Mean Aboslute Percentage Error (MAPE) for time series cross validation sets\n",
    "    AUTO_ARIMA_model_tscv.fit(y=train_data)\n",
    "    predictions = AUTO_ARIMA_model_tscv.predict(n_periods=TEST_SIZE)\n",
    "    MAPE = MAPE_metrics(val_data, predictions)\n",
    "    MAPE_values_tscv.append(MAPE)"
   ]
  },
  {
   "cell_type": "markdown",
   "id": "6bd34d73-26e2-4fd4-87c0-60562451ae31",
   "metadata": {
    "collapsed": false,
    "name": "cell12",
    "resultHeight": 44
   },
   "source": [
    "- Plot MAPE values across time series cross validation split"
   ]
  },
  {
   "cell_type": "code",
   "execution_count": null,
   "id": "e5c7f44e-2b07-4127-a16c-27dd3cfdbdd2",
   "metadata": {
    "language": "python",
    "name": "cell13"
   },
   "outputs": [],
   "source": [
    "# Model summary for Pmdarima with Time Series Cross Validation\n",
    "plt.plot(MAPE_values_tscv)\n",
    "plt.title(\"MAPE values (TSCV)\")\n",
    "plt.show()"
   ]
  },
  {
   "cell_type": "markdown",
   "id": "50edf1bc-30d5-4602-bf46-fac620739740",
   "metadata": {
    "collapsed": false,
    "name": "cell16",
    "resultHeight": 46
   },
   "source": [
    "### 4. Predict last 14 days (using last 2 months of data)"
   ]
  },
  {
   "cell_type": "code",
   "execution_count": null,
   "id": "09d1ae6d-1625-4ccb-8b7a-5f14c14e06d2",
   "metadata": {
    "language": "python",
    "name": "cell17"
   },
   "outputs": [],
   "source": [
    "start_time = time.time()\n",
    "AUTO_ARIMA_model_tscv.fit(y=X_train[-TRAIN_SIZE:])\n",
    "predictions = AUTO_ARIMA_model_tscv.predict(n_periods=TEST_SIZE)\n",
    "end_time = time.time()\n",
    "\n",
    "print(f\"ARIMA fitting time: {end_time - start_time} seconds\")\n",
    "\n",
    "mape = MAPE_metrics(test_data, predictions)\n",
    "print(f\"Last 14 days prediction MAPE values: {mape}\")\n",
    "smape = calculate_smape(test_data[\"TOTAL_SALES\"].values, predictions)\n",
    "print(f\"Last 14 days prediction SMAPE values: {smape}\")"
   ]
  },
  {
   "cell_type": "code",
   "execution_count": null,
   "id": "3cc4f9e1-5a0c-42e7-b794-dbfd10f155d1",
   "metadata": {
    "language": "python",
    "name": "cell18"
   },
   "outputs": [],
   "source": [
    "plot_graph(X_train[-TRAIN_SIZE:], test_data, predictions)"
   ]
  },
  {
   "cell_type": "markdown",
   "id": "493733fb-e7a1-4fee-a641-b89de4706c31",
   "metadata": {
    "collapsed": false,
    "name": "cell19",
    "resultHeight": 46
   },
   "source": [
    "### 5. Fit ARIMA Expanding Window model\n",
    "Optimal results:\n",
    "- MAPE value: 0.120\n",
    "- SMAPE value: 11.407\n",
    "- Tuning time: -\n",
    "- Fitting time: 0.2426s"
   ]
  },
  {
   "cell_type": "code",
   "execution_count": null,
   "id": "42881266-781b-473e-8d26-bf2c6451a9c6",
   "metadata": {
    "language": "python",
    "name": "cell20"
   },
   "outputs": [],
   "source": [
    "EXPANDING_WINDOW_FREQ = \"14D\"\n",
    "\n",
    "# Expanding window split\n",
    "ew_data[\"DATE\"] = pd.to_datetime(ew_data[\"DATE\"])\n",
    "ew_data_sales = ew_data.set_index(\"DATE\")\n",
    "\n",
    "start_date = ew_data[\"DATE\"].min() + pd.Timedelta(days=TEST_SIZE*4)\n",
    "end_date = ew_data[\"DATE\"].max() - pd.Timedelta(days=TEST_SIZE)\n",
    "\n",
    "# Create training and validation sets and record its performance\n",
    "MAPE_values_ew = []\n",
    "\n",
    "for date in pd.date_range(start_date, end_date, freq=EXPANDING_WINDOW_FREQ):\n",
    "    \n",
    "    ew_train = ew_data_sales.loc[:date - pd.offsets.Day(1)]\n",
    "    ew_val = ew_data_sales.loc[date:date + pd.offsets.Day(TEST_SIZE-1)]\n",
    "\n",
    "    # Re-train ARIMA model every N number of days\n",
    "    AUTO_ARIMA_model_ew = auto_arima(\n",
    "        ew_train, \n",
    "        m=7,\n",
    "        start_p=1, max_p=7,\n",
    "        start_d=1, max_d=2,\n",
    "        start_q=1, max_q=7,\n",
    "        seasonal=True,\n",
    "        stepwise=True,\n",
    "        suppress_warnings=True,\n",
    "        error_action=\"ignore\"\n",
    "    )\n",
    "\n",
    "    # Obtain Mean Aboslute Percentage Error (MAPE) for expanding window sets\n",
    "    AUTO_ARIMA_model_ew.fit(y=ew_train)\n",
    "    predictions = AUTO_ARIMA_model_ew.predict(n_periods=TEST_SIZE)\n",
    "    MAPE = MAPE_metrics(ew_val, predictions)\n",
    "    MAPE_values_ew.append(MAPE)\n",
    "    "
   ]
  },
  {
   "cell_type": "markdown",
   "id": "9b2fc25d-e1d2-4b5c-bfb7-bbea2869a256",
   "metadata": {
    "collapsed": false,
    "name": "cell24",
    "resultHeight": 44
   },
   "source": [
    "- Model summary"
   ]
  },
  {
   "cell_type": "code",
   "execution_count": null,
   "id": "78d95238-711a-4f08-b339-cc8af07f71f7",
   "metadata": {
    "language": "python",
    "name": "cell22"
   },
   "outputs": [],
   "source": [
    "print(AUTO_ARIMA_model_ew.summary())"
   ]
  },
  {
   "cell_type": "markdown",
   "id": "d919b0ab-1696-4e0d-81c9-33c26df72c76",
   "metadata": {
    "collapsed": false,
    "name": "cell21",
    "resultHeight": 44
   },
   "source": [
    "- Plot MAPE values over time"
   ]
  },
  {
   "cell_type": "code",
   "execution_count": null,
   "id": "7cf7efd3-b9e8-4ba8-b2ca-4b80a7eb0b9f",
   "metadata": {
    "language": "python",
    "name": "cell23"
   },
   "outputs": [],
   "source": [
    "plt.plot(MAPE_values_ew)\n",
    "plt.title(\"Overall MAPE values (Expanding Window)\")\n",
    "plt.show()"
   ]
  },
  {
   "cell_type": "markdown",
   "id": "1d44860a-7193-4d04-9626-44de4e866261",
   "metadata": {
    "collapsed": false,
    "name": "cell25",
    "resultHeight": 46
   },
   "source": [
    "### 6. Predict last 14 days (using all historical data)"
   ]
  },
  {
   "cell_type": "code",
   "execution_count": null,
   "id": "51303125-ec59-4bbe-93c5-8d5502db3b27",
   "metadata": {
    "language": "python",
    "name": "cell26"
   },
   "outputs": [],
   "source": [
    "# Fit arima model\n",
    "start_time = time.time()\n",
    "AUTO_ARIMA_model_ew.fit(y=X_train)\n",
    "predictions = AUTO_ARIMA_model_ew.predict(n_periods=TEST_SIZE)\n",
    "end_time = time.time()\n",
    "\n",
    "print(f\"ARIMA EW model fitting time: {end_time - start_time} seconds\")\n",
    "\n",
    "mape = MAPE_metrics(test_data, predictions)\n",
    "print(f\"Last 14 days prediction MAPE values: {mape}\")\n",
    "smape = calculate_smape(test_data[\"TOTAL_SALES\"].values, predictions)\n",
    "print(f\"Last 14 days prediction SMAPE values: {smape}\")"
   ]
  },
  {
   "cell_type": "code",
   "execution_count": null,
   "id": "3e747bbb-87e4-4123-9d50-d5bbc06e5626",
   "metadata": {
    "language": "python",
    "name": "cell27"
   },
   "outputs": [],
   "source": [
    "plot_graph(X_train[-40:], test_data, predictions)"
   ]
  },
  {
   "cell_type": "code",
   "execution_count": null,
   "id": "f5a25e12-31cd-4fbf-8b68-1677ec0a8ce2",
   "metadata": {
    "language": "python",
    "name": "cell28"
   },
   "outputs": [],
   "source": [
    "session.close()"
   ]
  }
 ],
 "metadata": {
  "kernelspec": {
   "display_name": "Streamlit Notebook",
   "name": "streamlit"
  }
 },
 "nbformat": 4,
 "nbformat_minor": 5
}
