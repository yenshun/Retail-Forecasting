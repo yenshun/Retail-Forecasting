{
 "cells": [
  {
   "cell_type": "markdown",
   "id": "e726eedf",
   "metadata": {},
   "source": [
    "# Neural Prophet model\n",
    "\n",
    "Overall process:\n",
    "- Neural Prophet model with daily sales value only (Basic Neural Prophet model)\n",
    "- Neural Prophet model with daily sales value, total daily customers, daily purchase amount per quantity, weekend flag\n",
    "\n",
    "Packages:\n",
    "1. pandas\n",
    "2. numpy\n",
    "3. neuralprophet\n",
    "4. scikit-learn"
   ]
  },
  {
   "cell_type": "code",
   "execution_count": null,
   "id": "fa0ff8a1-c6d0-4326-a4c8-3bc16731e1f4",
   "metadata": {
    "codeCollapsed": false,
    "collapsed": false,
    "language": "python",
    "name": "cell2",
    "resultHeight": 0
   },
   "outputs": [],
   "source": [
    "import time\n",
    "from neuralprophet import NeuralProphet\n",
    "from neuralprophet import set_log_level\n",
    "from sklearn.metrics import mean_absolute_percentage_error as MAPE_metrics\n",
    "import pandas as pd\n",
    "import numpy as np\n",
    "import matplotlib.pyplot as plt\n",
    "\n",
    "# Disable logging messages unless there is an error\n",
    "set_log_level(\"ERROR\")\n",
    "\n",
    "# Prediction timeframe: 14 days\n",
    "# Training timeframe: 56 days (4 weeks)\n",
    "TEST_SIZE = 14\n",
    "TRAIN_SIZE = TEST_SIZE * 4\n",
    "\n",
    "session = get_active_session()\n",
    "session.use_database(\"ml\")\n",
    "session.use_schema(\"retail_store\")\n",
    "\n",
    "transactions_df = session.table(\"store_2_preprocessed_transactions\")\n",
    "transactions_df = transactions_df.to_pandas()\n",
    "transactions_df = transactions_df.drop(\"STORE_CHAIN_ID\", axis=1)\n",
    "transactions_df[\"DATE\"] = pd.to_datetime(transactions_df[\"DATE\"])\n",
    "transactions_df = transactions_df.sort_values(by='DATE')"
   ]
  },
  {
   "cell_type": "markdown",
   "id": "16f0a144-2e6f-4d9f-9860-7a1b7adc1ea3",
   "metadata": {
    "collapsed": false,
    "name": "cell20",
    "resultHeight": 44
   },
   "source": [
    "- Functions for future use"
   ]
  },
  {
   "cell_type": "code",
   "execution_count": null,
   "id": "3d344c1d-73a8-415c-bb79-7eb532115527",
   "metadata": {
    "language": "python",
    "name": "cell21",
    "resultHeight": 0
   },
   "outputs": [],
   "source": [
    "def plot_graph(train_values, actual_values, predictions):\n",
    "    \"\"\"\n",
    "    Plot a graph showing train data, actual values and predictions.\n",
    "    \n",
    "    The function plots three lines:\n",
    "    1. Training data values\n",
    "    2. Actual test values \n",
    "    3. Predicted values\n",
    "    \n",
    "    The x-axis represents time steps and y-axis represents the values.\n",
    "\n",
    "    Args:\n",
    "        train_values: Array of training data values to plot\n",
    "        actual_values: Array of actual test values to plot\n",
    "        predictions: Array of predicted values to plot\n",
    "    \"\"\"\n",
    "    x_train = np.linspace(0, len(train_values), len(train_values))\n",
    "    x = np.linspace(len(train_values), len(train_values) + len(actual_values), len(actual_values))\n",
    "\n",
    "    plt.plot(x_train, train_values)\n",
    "    plt.plot(x, actual_values)\n",
    "    plt.plot(x, predictions)\n",
    "    plt.legend([\"Train Data\", \"Actual Sales\", \"Predictions\"])\n",
    "    \n",
    "    return\n",
    "\n",
    "\n",
    "def calculate_smape(actual_values, predictions):\n",
    "    \"\"\"\n",
    "    Calculate Symmetric Mean Absolute Percentage Error (SMAPE) between actual and predicted values.\n",
    "    \n",
    "    Args:\n",
    "        actual_values: Array of actual values\n",
    "        predictions: Array of predicted values\n",
    "        \n",
    "    Returns:\n",
    "        float: SMAPE score as a percentage between 0 and 100\n",
    "    \"\"\"\n",
    "    return 100/len(actual_values) * np.sum(2 * np.abs(predictions - actual_values) / (np.abs(actual_values) + np.abs(predictions)))"
   ]
  },
  {
   "cell_type": "markdown",
   "id": "511aee73-8891-48ba-9b80-094f86c5c71e",
   "metadata": {
    "collapsed": false,
    "name": "cell4",
    "resultHeight": 46
   },
   "source": [
    "### 1. Rename date and total sales columns to ds and y respectively"
   ]
  },
  {
   "cell_type": "code",
   "execution_count": null,
   "id": "e978567e-13cf-4c72-a09c-2eb20f0befd7",
   "metadata": {
    "language": "python",
    "name": "cell3",
    "resultHeight": 0
   },
   "outputs": [],
   "source": [
    "transactions_df = transactions_df.rename(columns={\"DATE\": \"ds\", \"TOTAL_SALES\": \"y\"})"
   ]
  },
  {
   "cell_type": "markdown",
   "id": "3bfb16da-d203-44dc-bed8-5972ee9768b6",
   "metadata": {
    "collapsed": false,
    "name": "cell5",
    "resultHeight": 46
   },
   "source": [
    "### 2. Fit basic NeuralProphet model\n",
    "\n",
    "Optimal results:\n",
    "- MAPE value: 0.0978\n",
    "- SMAPE value: 5.0497\n",
    "- Tuning time: -\n",
    "- Fitting time: 11.598s\n",
    "\n",
    "For other feature combinations optimal results, refer to Model Performance document."
   ]
  },
  {
   "cell_type": "code",
   "execution_count": null,
   "id": "75c68a74-5328-4f9f-885b-b18ef8f93a31",
   "metadata": {
    "codeCollapsed": false,
    "collapsed": false,
    "language": "python",
    "name": "cell6",
    "resultHeight": 0
   },
   "outputs": [],
   "source": [
    "np_model = NeuralProphet(\n",
    "    # n_changepoints=10\n",
    "    yearly_seasonality=False,\n",
    "    weekly_seasonality=True,\n",
    "    daily_seasonality=False,\n",
    "    n_lags=TRAIN_SIZE,\n",
    "    n_forecasts=TEST_SIZE,\n",
    "    collect_metrics={\"MAPE\": \"MeanAbsolutePercentageError\", \"SMAPE\": \"SymmetricMeanAbsolutePercentageError\"}\n",
    ")\n",
    "\n",
    "# Uncomment to add any other features\n",
    "# np_model.add_lagged_regressor(\"TOTAL_CUSTOMERS\", n_lags=7)\n",
    "# np_model.add_lagged_regressor(\"PURCHASE_AMT_PER_QTY\", n_lags=7)\n",
    "# np_model.add_lagged_regressor(\"FLAG_WEEKEND\", n_lags=7)"
   ]
  },
  {
   "cell_type": "code",
   "execution_count": null,
   "id": "b58a900a-758b-4856-981a-85bafc21d9cf",
   "metadata": {
    "language": "python",
    "name": "cell7",
    "resultHeight": 548
   },
   "outputs": [],
   "source": [
    "start_time = time.time()\n",
    "metrics = np_model.fit(transactions_df[[\"ds\", \"y\"]], freq=\"D\")\n",
    "forecast = np_model.predict(transactions_df[[\"ds\", \"y\"]])\n",
    "end_time = time.time()"
   ]
  },
  {
   "cell_type": "code",
   "execution_count": null,
   "id": "dea99d57-0c93-4d6a-a4d5-183cfc2e4071",
   "metadata": {
    "language": "python",
    "name": "cell23",
    "resultHeight": 38
   },
   "outputs": [],
   "source": [
    "print(f\"NeuralProphet model fitting time: {end_time - start_time} seconds\")\n",
    "print(metrics)"
   ]
  },
  {
   "cell_type": "code",
   "execution_count": null,
   "id": "7d69a192-ea9f-4dc1-b348-ad822472ca20",
   "metadata": {
    "language": "python",
    "name": "cell8",
    "resultHeight": 459
   },
   "outputs": [],
   "source": [
    "np_model.highlight_nth_step_ahead_of_each_forecast(1)\n",
    "np_model.plot(forecast)"
   ]
  },
  {
   "cell_type": "code",
   "execution_count": null,
   "id": "8b71b0e5-8a9c-4dbc-b40c-850af976b3f1",
   "metadata": {
    "language": "python",
    "name": "cell9",
    "resultHeight": 459
   },
   "outputs": [],
   "source": [
    "np_model.plot_parameters(components=[\"trend\", \"seasonality\"])"
   ]
  },
  {
   "cell_type": "markdown",
   "id": "f3b23399-8731-4eca-b680-6bfd62767b59",
   "metadata": {
    "collapsed": false,
    "name": "cell12",
    "resultHeight": 46
   },
   "source": [
    "### 3. Predict last 14 days"
   ]
  },
  {
   "cell_type": "code",
   "execution_count": null,
   "id": "b1ef6fb9-6a41-4700-8b1d-5e79e777d441",
   "metadata": {
    "codeCollapsed": false,
    "collapsed": true,
    "language": "python",
    "name": "cell11"
   },
   "outputs": [],
   "source": [
    "np_model = NeuralProphet(\n",
    "    # n_changepoints=10\n",
    "    yearly_seasonality=False,\n",
    "    weekly_seasonality=True,\n",
    "    daily_seasonality=False,\n",
    "    n_lags=TRAIN_SIZE,\n",
    "    n_forecasts=TEST_SIZE,\n",
    "    growth=\"logistic\",\n",
    "    seasonality_mode=\"multiplicative\",\n",
    "    collect_metrics={\"MAPE\": \"MeanAbsolutePercentageError\", \"SMAPE\": \"SymmetricMeanAbsolutePercentageError\"}\n",
    ")\n",
    "\n",
    "# Uncomment to add any other features\n",
    "# np_model.add_lagged_regressor(\"TOTAL_CUSTOMERS\", n_lags=14)\n",
    "# np_model.add_lagged_regressor(\"PURCHASE_AMT_PER_QTY\", n_lags=14)\n",
    "# np_model.add_lagged_regressor(\"FLAG_WEEKEND\", n_lags=14)"
   ]
  },
  {
   "cell_type": "code",
   "execution_count": null,
   "id": "1cc82b90-87f5-408a-b520-45721f0ac450",
   "metadata": {
    "language": "python",
    "name": "cell13",
    "resultHeight": 495
   },
   "outputs": [],
   "source": [
    "start_time = time.time()\n",
    "train_data = transactions_df[[\"ds\", \"y\"]].iloc[:-TEST_SIZE]\n",
    "np_model.fit(train_data, freq=\"D\")\n",
    "end_time = time.time()"
   ]
  },
  {
   "cell_type": "code",
   "execution_count": null,
   "id": "dd86b717-97ca-47f8-b668-ac828e03d249",
   "metadata": {
    "language": "python",
    "name": "cell25",
    "resultHeight": 38
   },
   "outputs": [],
   "source": [
    "print(f\"NeuralProphet model fitting time: {end_time - start_time} seconds\")\n"
   ]
  },
  {
   "cell_type": "code",
   "execution_count": null,
   "id": "c2500789-4c1a-4219-80e1-b3f522c5b3a1",
   "metadata": {
    "language": "python",
    "name": "cell15",
    "resultHeight": 0
   },
   "outputs": [],
   "source": [
    "df_future = np_model.make_future_dataframe(train_data, n_historic_predictions=True, periods=TEST_SIZE)\n",
    "forecast = np_model.predict(df_future)\n",
    "np_model.highlight_nth_step_ahead_of_each_forecast(TEST_SIZE)\n",
    "np_model.plot(forecast)"
   ]
  },
  {
   "cell_type": "code",
   "execution_count": null,
   "id": "dbe5ea4f-506c-4913-9c76-487dd6592a51",
   "metadata": {
    "language": "python",
    "name": "cell22",
    "resultHeight": 0
   },
   "outputs": [],
   "source": [
    "np_model.plot_parameters(components=[\"trend\", \"seasonality\"])"
   ]
  },
  {
   "cell_type": "markdown",
   "id": "367077c5-0573-4ada-a44d-a7e748048cdf",
   "metadata": {
    "collapsed": false,
    "name": "cell17",
    "resultHeight": 44
   },
   "source": [
    "- Calculate MAPE and SMAPE for last 14 days prediction"
   ]
  },
  {
   "cell_type": "code",
   "execution_count": null,
   "id": "c3ebd277-738c-40d8-9401-4aaf99e9a861",
   "metadata": {
    "language": "python",
    "name": "cell18",
    "resultHeight": 0
   },
   "outputs": [],
   "source": [
    "last_14_predictions = forecast[\"yhat14\"].iloc[-TEST_SIZE:].values\n",
    "last_14_val = transactions_df[\"y\"].iloc[-TEST_SIZE:].values\n",
    "mape = MAPE_metrics(last_14_val, last_14_predictions)\n",
    "smape = calculate_smape(last_14_val, last_14_predictions)\n",
    "\n",
    "print(f\"MAPE value for last 14 days prediction: {mape}\")\n",
    "print(f\"SMAPE value for last 14 days prediction: {smape}\")"
   ]
  },
  {
   "cell_type": "markdown",
   "id": "31acf545-a1bf-4ab7-a4bf-67e5fbe742d6",
   "metadata": {
    "collapsed": false,
    "name": "cell24",
    "resultHeight": 44
   },
   "source": [
    "- Plot prediction vs actual graph"
   ]
  },
  {
   "cell_type": "code",
   "execution_count": null,
   "id": "a44b7127-2e67-4a62-900e-54767c49b2e1",
   "metadata": {
    "language": "python",
    "name": "cell19",
    "resultHeight": 0
   },
   "outputs": [],
   "source": [
    "train_values = train_data[\"y\"].iloc[-TRAIN_SIZE:]\n",
    "plot_graph(train_values, last_14_val, last_14_predictions)"
   ]
  },
  {
   "cell_type": "code",
   "execution_count": null,
   "id": "dd600bcb-bb29-4611-b318-1c096f3f38cf",
   "metadata": {
    "language": "python",
    "name": "cell14",
    "resultHeight": 0
   },
   "outputs": [],
   "source": [
    "session.close()"
   ]
  }
 ],
 "metadata": {
  "kernelspec": {
   "display_name": "Streamlit Notebook",
   "name": "streamlit"
  }
 },
 "nbformat": 4,
 "nbformat_minor": 5
}
