{
 "cells": [
  {
   "cell_type": "markdown",
   "id": "c1472b3b-67ef-4af4-aaf5-be90145f2584",
   "metadata": {
    "collapsed": false,
    "name": "cell2",
    "resultHeight": 189
   },
   "source": [
    "# Cortex Time Series Forecasting model\n",
    "Overall Process:\n",
    "- Test simple time series forecasting using Snowflake Cortex forecast model\n",
    "\n",
    "Note:\n",
    "- If you want to add additional features to this model, you would need to pass in future known values of these features to be able to generate a forecast (such like: holidays, weekends etc.)"
   ]
  },
  {
   "cell_type": "markdown",
   "id": "688ac00e-5215-4cf2-89ec-95b2ea2384c9",
   "metadata": {
    "collapsed": false,
    "name": "cell3",
    "resultHeight": 46
   },
   "source": [
    "### 1. Create simple forecast"
   ]
  },
  {
   "cell_type": "code",
   "execution_count": null,
   "id": "c1d8c9d4-e98b-489e-b1b0-9b11f56ee5d7",
   "metadata": {
    "language": "sql",
    "name": "cell1",
    "resultHeight": 112
   },
   "outputs": [],
   "source": [
    "-- Train model\n",
    "CREATE OR REPLACE SNOWFLAKE.ML.FORECAST simple_forecast_model(\n",
    "    INPUT_DATA => TABLE(\n",
    "        WITH ordered_data AS(\n",
    "            SELECT date, total_sales,\n",
    "                ROW_NUMBER() OVER (ORDER BY date) AS row_num\n",
    "            FROM store_2_preprocessed_transactions\n",
    "        )\n",
    "        SELECT date, total_sales\n",
    "        FROM ordered_data\n",
    "        WHERE row_num <= (SELECT COUNT(*) - 14 FROM store_2_preprocessed_transactions)\n",
    "    ),\n",
    "    TIMESTAMP_COLNAME => 'date',\n",
    "    TARGET_COLNAME => 'total_sales'\n",
    ");"
   ]
  },
  {
   "cell_type": "code",
   "execution_count": null,
   "id": "07ce850c-8cd5-4286-b4d8-e1c15d2d79dd",
   "metadata": {
    "language": "sql",
    "name": "cell4",
    "resultHeight": 112
   },
   "outputs": [],
   "source": [
    "-- Generate forecast using model\n",
    "CREATE OR REPLACE TEMPORARY TABLE simple_cortex_result AS\n",
    "SELECT * FROM TABLE(\n",
    "    forecast_model!FORECAST(FORECASTING_PERIODS => 14)\n",
    ");"
   ]
  },
  {
   "cell_type": "code",
   "execution_count": null,
   "id": "dd811526-c428-4349-bdc5-a821e9a068b6",
   "metadata": {
    "language": "sql",
    "name": "cell6",
    "resultHeight": 439
   },
   "outputs": [],
   "source": [
    "SELECT * FROM simple_cortex_result;"
   ]
  },
  {
   "cell_type": "markdown",
   "id": "9e574ef3-e5ea-4001-a7d3-f10099552832",
   "metadata": {
    "collapsed": false,
    "name": "cell7",
    "resultHeight": 215
   },
   "source": [
    "### 2. Analyse cortex results\n",
    "\n",
    "Packages: \n",
    "1. matplotlib\n",
    "2. scikit-learn\n",
    "3. pandas\n",
    "4. numpy\n",
    "\n",
    "Optimal results:\n",
    "- MAPE value: 0.0449\n",
    "- SMAPE value: 4.594\n",
    "- Tuning time: 46s\n",
    "- Fitting time: 16s"
   ]
  },
  {
   "cell_type": "code",
   "execution_count": null,
   "id": "85706113-8c53-43ea-b816-a7e98eb07ebb",
   "metadata": {
    "codeCollapsed": false,
    "collapsed": true,
    "language": "python",
    "name": "cell5",
    "resultHeight": 395
   },
   "outputs": [],
   "source": [
    "import pandas as pd\n",
    "import numpy as np\n",
    "import matplotlib.pyplot as plt\n",
    "\n",
    "from sklearn.metrics import mean_absolute_percentage_error as MAPE_metrics\n",
    "\n",
    "TEST_SIZE = 14\n",
    "TRAIN_SIZE = TEST_SIZE * 4\n",
    "\n",
    "session = get_active_session()\n",
    "session.use_database(\"ml\")\n",
    "session.use_schema(\"retail_store\")\n",
    "data = session.table(\"simple_cortex_result\")\n",
    "data = data.to_pandas()\n",
    "\n",
    "data[\"TS\"] = pd.to_datetime(data[\"TS\"])\n",
    "data = data.sort_values(by='TS', ignore_index=True)\n"
   ]
  },
  {
   "cell_type": "code",
   "execution_count": null,
   "id": "521957c3-9edf-4405-a5dd-5d724d19977a",
   "metadata": {
    "language": "python",
    "name": "cell8",
    "resultHeight": 0
   },
   "outputs": [],
   "source": [
    "def plot_graph(actual_values, predictions):\n",
    "    \"\"\"\n",
    "    Plot a graph showing actual values and predictions.\n",
    "    \n",
    "    The function plots three lines:\n",
    "    1. Actual test values \n",
    "    2. Predicted values\n",
    "    \n",
    "    The x-axis represents time steps and y-axis represents the values.\n",
    "\n",
    "    Args:\n",
    "        actual_values: Array of actual test values to plot\n",
    "        predictions: Array of predicted values to plot\n",
    "    \"\"\"\n",
    "    x = np.linspace(0, len(actual_values), len(actual_values))\n",
    "\n",
    "    plt.plot(x, actual_values)\n",
    "    plt.plot(x, predictions)\n",
    "    plt.legend([\"Actual Sales\", \"Predictions\"])\n",
    "    plt.show()\n",
    "    \n",
    "    return\n",
    "\n",
    "\n",
    "def calculate_smape(actual_values, predictions):\n",
    "    \"\"\"\n",
    "    Calculate Symmetric Mean Absolute Percentage Error (SMAPE) between actual and predicted values.\n",
    "    \n",
    "    Args:\n",
    "        actual_values: Array of actual values\n",
    "        predictions: Array of predicted values\n",
    "        \n",
    "    Returns:\n",
    "        float: SMAPE score as a percentage between 0 and 100\n",
    "    \"\"\"\n",
    "    return 100/len(actual_values) * np.sum(2 * np.abs(predictions - actual_values) / (np.abs(actual_values) + np.abs(predictions)))"
   ]
  },
  {
   "cell_type": "code",
   "execution_count": null,
   "id": "20714b32-41cd-40a5-a9be-4aedb07d47f3",
   "metadata": {
    "language": "python",
    "name": "cell9",
    "resultHeight": 60
   },
   "outputs": [],
   "source": [
    "# Calculate MAPE and SMAPE metrics\n",
    "val_data = session.table(\"store_2_preprocessed_transactions\")\n",
    "val_data = val_data.to_pandas()\n",
    "val_data = val_data.sort_values(by='DATE', ignore_index=True)\n",
    "val_data = val_data[\"TOTAL_SALES\"].iloc[-TEST_SIZE:].values\n",
    "\n",
    "predictions = data[\"FORECAST\"].iloc[-TEST_SIZE:].values\n",
    "\n",
    "mape = MAPE_metrics(val_data, predictions)\n",
    "smape = calculate_smape(val_data, predictions)\n",
    "\n",
    "print(f\"MAPE value for last 14 days prediction: {mape}\")\n",
    "print(f\"SMAPE value for last 14 days prediction: {smape}\")"
   ]
  },
  {
   "cell_type": "code",
   "execution_count": null,
   "id": "700a50cc-2f90-47a1-b310-e8587a3f7d36",
   "metadata": {
    "language": "python",
    "name": "cell10",
    "resultHeight": 869
   },
   "outputs": [],
   "source": [
    "plot_graph(val_data, predictions)"
   ]
  },
  {
   "cell_type": "markdown",
   "id": "30a0a656-d09d-475c-88e1-11b732dab465",
   "metadata": {
    "collapsed": false,
    "name": "cell11",
    "resultHeight": 91
   },
   "source": [
    "### 2. Forecast model with exogenous variable (flag_weekend)\n",
    "\n",
    "- Only can include flag_weekend feature as predictions require future exogenous values.\n",
    "\n",
    "Optimal results:\n",
    "- MAPE value: 0.0449\n",
    "- SMAPE value: 4.602\n",
    "- Tuning time: 46s\n",
    "- Fitting time: 16s\n",
    "\n",
    "Analysis: Results are similar to Cortex forecasting model with sales data only, the Cortex forecasting model may have taken into account the weekday vs weekend feature based on the input dates."
   ]
  },
  {
   "cell_type": "code",
   "execution_count": null,
   "id": "6a83ddbf-ee8e-4705-aa77-c968411c619d",
   "metadata": {
    "language": "sql",
    "name": "cell12",
    "resultHeight": 112
   },
   "outputs": [],
   "source": [
    "-- Train model\n",
    "CREATE OR REPLACE SNOWFLAKE.ML.FORECAST feature_forecast_model(\n",
    "    INPUT_DATA => TABLE(\n",
    "        WITH ordered_data AS(\n",
    "            SELECT date, total_sales, flag_weekend,\n",
    "                ROW_NUMBER() OVER (ORDER BY date) AS row_num\n",
    "            FROM store_2_preprocessed_transactions\n",
    "        )\n",
    "        SELECT date, total_sales, flag_weekend\n",
    "        FROM ordered_data\n",
    "        WHERE row_num <= (SELECT COUNT(*) - 14 FROM store_2_preprocessed_transactions)\n",
    "    ),\n",
    "    TIMESTAMP_COLNAME => 'date',\n",
    "    TARGET_COLNAME => 'total_sales'\n",
    ");"
   ]
  },
  {
   "cell_type": "markdown",
   "id": "2a666cbb-4fed-4f61-a004-af899a3d756a",
   "metadata": {
    "collapsed": false,
    "name": "cell14",
    "resultHeight": 44
   },
   "source": [
    "- Create a view for the future features table"
   ]
  },
  {
   "cell_type": "code",
   "execution_count": null,
   "id": "f9a3f482-1d22-4fb1-855f-f47c3b040089",
   "metadata": {
    "language": "sql",
    "name": "cell13",
    "resultHeight": 112
   },
   "outputs": [],
   "source": [
    "CREATE OR REPLACE VIEW future_features_view AS\n",
    "WITH ordered_data AS(\n",
    "    SELECT date, total_sales, flag_weekend,\n",
    "        ROW_NUMBER() OVER (ORDER BY date) AS row_num\n",
    "    FROM store_2_preprocessed_transactions\n",
    ")\n",
    "SELECT date, total_sales, flag_weekend\n",
    "FROM ordered_data\n",
    "QUALIFY row_num > (SELECT COUNT(*) - 14 FROM store_2_preprocessed_transactions)\n",
    "ORDER BY date;\n"
   ]
  },
  {
   "cell_type": "markdown",
   "id": "66f0aeb9-0e3b-4635-948c-dc759ab87160",
   "metadata": {
    "collapsed": false,
    "name": "cell16",
    "resultHeight": 44
   },
   "source": [
    "- Generate forecast"
   ]
  },
  {
   "cell_type": "code",
   "execution_count": null,
   "id": "75326cd5-c53f-4b56-a462-6ac16f76e61b",
   "metadata": {
    "language": "sql",
    "name": "cell15",
    "resultHeight": 112
   },
   "outputs": [],
   "source": [
    "-- Generate forecast using model\n",
    "CREATE OR REPLACE TEMPORARY TABLE feature_cortex_result AS\n",
    "SELECT * FROM TABLE(\n",
    "    feature_forecast_model!FORECAST(\n",
    "        INPUT_DATA => TABLE(future_features_view),\n",
    "        TIMESTAMP_COLNAME => 'date'\n",
    "    )\n",
    ");"
   ]
  },
  {
   "cell_type": "code",
   "execution_count": null,
   "id": "3bdda57f-a2f0-41c1-847a-2c61e0c68e62",
   "metadata": {
    "language": "sql",
    "name": "cell17",
    "resultHeight": 439
   },
   "outputs": [],
   "source": [
    "SELECT * FROM feature_cortex_result;"
   ]
  },
  {
   "cell_type": "code",
   "execution_count": null,
   "id": "3b9f4377-440a-4d78-a63a-f6c1a7b35d14",
   "metadata": {
    "language": "python",
    "name": "cell18",
    "resultHeight": 0
   },
   "outputs": [],
   "source": [
    "import pandas as pd\n",
    "import numpy as np\n",
    "import matplotlib.pyplot as plt\n",
    "\n",
    "from sklearn.metrics import mean_absolute_percentage_error as MAPE_metrics\n",
    "\n",
    "TEST_SIZE = 14\n",
    "TRAIN_SIZE = TEST_SIZE * 4\n",
    "\n",
    "session = get_active_session()\n",
    "session.use_database(\"ml\")\n",
    "session.use_schema(\"retail_store\")\n",
    "data = session.table(\"feature_cortex_result\")\n",
    "data = data.to_pandas()\n",
    "\n",
    "data[\"TS\"] = pd.to_datetime(data[\"TS\"])\n",
    "data = data.sort_values(by='TS', ignore_index=True)"
   ]
  },
  {
   "cell_type": "code",
   "execution_count": null,
   "id": "4d36a7cf-ec69-4aee-9dd9-7cab6cc21b5b",
   "metadata": {
    "language": "python",
    "name": "cell19",
    "resultHeight": 60
   },
   "outputs": [],
   "source": [
    "val_data = session.table(\"store_2_preprocessed_transactions\")\n",
    "val_data = val_data.to_pandas()\n",
    "val_data = val_data.sort_values(by='DATE', ignore_index=True)\n",
    "val_data = val_data[\"TOTAL_SALES\"].iloc[-TEST_SIZE:].values\n",
    "\n",
    "predictions = data[\"FORECAST\"].iloc[-TEST_SIZE:].values\n",
    "\n",
    "mape = MAPE_metrics(val_data, predictions)\n",
    "smape = calculate_smape(val_data, predictions)\n",
    "\n",
    "print(f\"MAPE value for last 14 days prediction: {mape}\")\n",
    "print(f\"SMAPE value for last 14 days prediction: {smape}\")"
   ]
  },
  {
   "cell_type": "code",
   "execution_count": null,
   "id": "85c22ff8-cc6d-48a3-9ca1-990f7b1a137b",
   "metadata": {
    "language": "python",
    "name": "cell20",
    "resultHeight": 869
   },
   "outputs": [],
   "source": [
    "plot_graph(val_data, predictions)"
   ]
  },
  {
   "cell_type": "code",
   "execution_count": null,
   "id": "94ac63c7-f5a6-4cb1-8da2-591f4b46f3c2",
   "metadata": {
    "language": "python",
    "name": "cell21"
   },
   "outputs": [],
   "source": [
    "session.close()"
   ]
  }
 ],
 "metadata": {
  "kernelspec": {
   "display_name": "Streamlit Notebook",
   "name": "streamlit"
  }
 },
 "nbformat": 4,
 "nbformat_minor": 5
}
