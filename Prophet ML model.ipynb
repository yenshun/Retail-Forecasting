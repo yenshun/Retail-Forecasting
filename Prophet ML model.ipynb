{
 "cells": [
  {
   "cell_type": "markdown",
   "id": "0723c8e8-63a6-4c60-b8ad-f0aafe1bfb25",
   "metadata": {
    "collapsed": false,
    "name": "cell1"
   },
   "source": [
    "# Prophet model (META)\n",
    "Overall process:\n",
    "- Time series decomposition\n",
    "- Prophet model (auto parameter selection) with in-built time series cross validation\n",
    "- Prophet model (auto parameter selection) with expanding window\n",
    "- Prophet model (default parameters + multiplicative seasonality + logistic growth) --> to test the fitting time difference compared to auto parameter selection model\n",
    "\n",
    "Packages:\n",
    "1. prophet\n",
    "2. scikit-learn\n",
    "3. snowflake-snowpark-python\n",
    "4. pandas\n",
    "5. numpy \n",
    "6. matplotlib\n",
    "7. statsmodels"
   ]
  },
  {
   "cell_type": "code",
   "execution_count": null,
   "id": "0a7c2a3b-96c9-463b-a032-9578c4b10ea2",
   "metadata": {
    "language": "python",
    "name": "cell2"
   },
   "outputs": [],
   "source": [
    "import time\n",
    "import pandas as pd\n",
    "import numpy as np\n",
    "import matplotlib.pyplot as plt\n",
    "import logging \n",
    "logging.getLogger(\"cmdstanpy\").setLevel(logging.ERROR)\n",
    "\n",
    "from prophet import Prophet\n",
    "from prophet.plot import plot_cross_validation_metric\n",
    "from prophet.plot import add_changepoints_to_plot\n",
    "from prophet.diagnostics import cross_validation, performance_metrics\n",
    "from sklearn.metrics import mean_absolute_percentage_error as MAPE_metrics\n",
    "from sklearn.model_selection import ParameterGrid\n",
    "\n",
    "# Prediction timeframe: 14 days\n",
    "# Training timeframe: 56 days (4 weeks)\n",
    "TEST_SIZE = 14\n",
    "TRAIN_SIZE = TEST_SIZE * 4\n",
    "\n",
    "session = get_active_session()\n",
    "session.use_database(\"ml\")\n",
    "session.use_schema(\"retail_store\")\n",
    "\n",
    "data = session.table(\"store_2_preprocessed_transactions\")\n",
    "data = data.to_pandas()\n",
    "data = data[[\"DATE\", \"TOTAL_SALES\"]]\n",
    "data[\"DATE\"] = pd.to_datetime(data[\"DATE\"])\n",
    "data = data.sort_values(by='DATE', ignore_index=True)"
   ]
  },
  {
   "cell_type": "markdown",
   "id": "fa39dabc-4a74-4a3c-b7e5-4698dc57a9c1",
   "metadata": {
    "collapsed": false,
    "name": "cell7",
    "resultHeight": 44
   },
   "source": [
    "- Functions for future use"
   ]
  },
  {
   "cell_type": "code",
   "execution_count": null,
   "id": "ea80614c-b97b-4375-adf1-f715d46e51b0",
   "metadata": {
    "language": "python",
    "name": "cell8"
   },
   "outputs": [],
   "source": [
    "def plot_graph(train_values, actual_values, predictions):\n",
    "    \"\"\"\n",
    "    Plot a graph showing train data, actual values and predictions.\n",
    "    \n",
    "    The function plots three lines:\n",
    "    1. Training data values\n",
    "    2. Actual test values \n",
    "    3. Predicted values\n",
    "    \n",
    "    The x-axis represents time steps and y-axis represents the values.\n",
    "\n",
    "    Args:\n",
    "        train_values: Array of training data values to plot\n",
    "        actual_values: Array of actual test values to plot\n",
    "        predictions: Array of predicted values to plot\n",
    "    \"\"\"\n",
    "    x_train = np.linspace(0, len(train_values), len(train_values))\n",
    "    x = np.linspace(len(train_values), len(train_values) + len(actual_values), len(actual_values))\n",
    "\n",
    "    plt.plot(x_train, train_values)\n",
    "    plt.plot(x, actual_values)\n",
    "    plt.plot(x, predictions)\n",
    "    plt.legend([\"Train Data\", \"Actual Sales\", \"Predictions\"])\n",
    "    plt.show()\n",
    "\n",
    "    return\n",
    "\n",
    "\n",
    "def calculate_smape(actual_values, predictions):\n",
    "    \"\"\"\n",
    "    Calculate Symmetric Mean Absolute Percentage Error (SMAPE) between actual and predicted values.\n",
    "    \n",
    "    Args:\n",
    "        actual_values: Array of actual values\n",
    "        predictions: Array of predicted values\n",
    "        \n",
    "    Returns:\n",
    "        float: SMAPE score as a percentage between 0 and 100\n",
    "    \"\"\"\n",
    "    return 100/len(actual_values) * np.sum(2 * np.abs(predictions - actual_values) / (np.abs(actual_values) + np.abs(predictions)))"
   ]
  },
  {
   "cell_type": "markdown",
   "id": "ceb22f01-984a-4c5f-8dd0-9f40fac10b2d",
   "metadata": {
    "collapsed": false,
    "name": "cell3"
   },
   "source": [
    "- Decomposing time series data to better understand the data.\n",
    "\n",
    "Analysis:\n",
    "- Trend component looks similar for both seasonality\n",
    "- Seasonal componnet looks better on multiplicative models\n",
    "- Residual component of the multiplicative model shows a more evenly distribution of residuals around 0 with fewer outliers\n",
    "\n",
    "Conclusion:\n",
    "- Use multiplicative seasonality for all Prophet models\n",
    "\n",
    "### 1. Additive seasonality"
   ]
  },
  {
   "cell_type": "code",
   "execution_count": null,
   "id": "035acbd4-81e8-4eed-b447-cbc752b1c6ff",
   "metadata": {
    "language": "python",
    "name": "cell4"
   },
   "outputs": [],
   "source": [
    "from statsmodels.tsa.seasonal import seasonal_decompose\n",
    "\n",
    "add_decomposed_data = seasonal_decompose(\n",
    "    data[\"TOTAL_SALES\"], \n",
    "    model=\"additive\",\n",
    "    extrapolate_trend=\"freq\", \n",
    "    period=7\n",
    ")\n",
    "\n",
    "add_decomposed_data.plot().show()"
   ]
  },
  {
   "cell_type": "markdown",
   "id": "58191d39-6b60-4db1-9f26-11160b75e736",
   "metadata": {
    "collapsed": false,
    "name": "cell5",
    "resultHeight": 46
   },
   "source": [
    "### 2. Multiplicative seasonality"
   ]
  },
  {
   "cell_type": "code",
   "execution_count": null,
   "id": "f35c187f-55ee-478f-9fdd-fa00f412a47c",
   "metadata": {
    "collapsed": false,
    "language": "python",
    "name": "cell6"
   },
   "outputs": [],
   "source": [
    "# Multiplicative decompose sales data\n",
    "\n",
    "# Transform data as multiplicative data can't take in zero and negative numbers\n",
    "# Add a constant to all values to remove zeroes and negatives\n",
    "mul_data = data[\"TOTAL_SALES\"] + abs(data[\"TOTAL_SALES\"].min()) + 1\n",
    "\n",
    "mul_decomposed_data = seasonal_decompose(\n",
    "    mul_data, \n",
    "    model=\"multiplicative\",\n",
    "    extrapolate_trend=\"freq\", \n",
    "    period=7\n",
    ")\n",
    "\n",
    "mul_decomposed_data.plot().show()"
   ]
  },
  {
   "cell_type": "markdown",
   "id": "5801b8f2-c965-4a83-bb3d-d6c8a60d8074",
   "metadata": {
    "collapsed": false,
    "name": "cell11"
   },
   "source": [
    "### 3. Rename columns and split train test set\n",
    "- Set floor as 0 to prevent model from predicting negative or 0 sales value"
   ]
  },
  {
   "cell_type": "code",
   "execution_count": null,
   "id": "33992d79-de92-438c-bf3b-2d436bda12d5",
   "metadata": {
    "collapsed": false,
    "language": "python",
    "name": "cell12"
   },
   "outputs": [],
   "source": [
    "# Date needs to be renamed as \"ds\" and sales have to be renamed as \"y\"\n",
    "data = data.rename(columns={\"DATE\": \"ds\"})\n",
    "data = data.rename(columns={\"TOTAL_SALES\": \"y\"})\n",
    "\n",
    "# Transform data as prophet performance metrics data can't take in zero and negative numbers\n",
    "# Change negative values into 0\n",
    "data[\"y\"] = data[\"y\"] + 1\n",
    "\n",
    "FLOOR = 0\n",
    "CAP = data[\"y\"].max()\n",
    "\n",
    "data[\"floor\"] = 0\n",
    "data[\"cap\"] = CAP\n",
    "\n",
    "# Split train test set\n",
    "test_set = data.iloc[-TEST_SIZE:]\n",
    "data = data.iloc[:-TEST_SIZE]"
   ]
  },
  {
   "cell_type": "markdown",
   "id": "653d7d4b-bca2-4f84-a6d2-3bc7cc88d937",
   "metadata": {
    "collapsed": false,
    "name": "cell9"
   },
   "source": [
    "### 4. Fit Prophet model using in-built cross validation function.\n",
    "\n",
    "Best MAPE parameter combination:\\\n",
    "{\\\n",
    "    'changepoint_prior_scale': 0.05, \\\n",
    "    'growth': 'logistic', \\\n",
    "    'seasonality_mode': 'multiplicative', \\\n",
    "    'seasonality_prior_scale': 0.1, \\\n",
    "    'weekly_seasonality': 5\\\n",
    "}\n",
    "\n",
    "Best SMAPE parameter combination:\\\n",
    "{\\\n",
    "    'changepoint_prior_scale': 0.05, \\\n",
    "    'growth': 'logistic', \\\n",
    "    'seasonality_mode': 'multiplicative', \\\n",
    "    'seasonality_prior_scale': 0.1, \\\n",
    "    'weekly_seasonality': 5\\\n",
    "}\n",
    "\n",
    "Optimal results:\n",
    "- MAPE value: 0.0303\n",
    "- SMAPE value: 3.0943\n",
    "- Tuning time: 100.513s\n",
    "- Fitting time: 0.2163s"
   ]
  },
  {
   "cell_type": "code",
   "execution_count": null,
   "id": "4c584fbe-45d0-41bd-89cd-b6d1b8192f05",
   "metadata": {
    "codeCollapsed": false,
    "collapsed": true,
    "language": "python",
    "name": "cell10"
   },
   "outputs": [],
   "source": [
    "# Setup up param grid for testing combinations of parameters\n",
    "params_grid = {\n",
    "    'changepoint_prior_scale': [0.005, 0.01, 0.05],\n",
    "    'seasonality_prior_scale': [0.1, 1.0, 10.0],\n",
    "    'seasonality_mode': ['multiplicative'],\n",
    "    'growth': ['logistic'],\n",
    "    'weekly_seasonality':[5,10,15],\n",
    "}\n",
    "\n",
    "# Get the optimal parameters by using time series cross validation\n",
    "opt_params_mape = None\n",
    "opt_params_smape = None\n",
    "lowest_mape = float(\"inf\")\n",
    "lowest_smape = float(\"inf\")\n",
    "results = []\n",
    "\n",
    "start_time = time.time()\n",
    "\n",
    "\n",
    "# Iterate through parameter combinations to find optimal parameters that minimize MAPE and SMAPE metrics\n",
    "for params in ParameterGrid(params_grid):\n",
    "    model_1 = Prophet(**params)\n",
    "    model_1.fit(data)\n",
    "\n",
    "    df_cv = cross_validation(\n",
    "        model_1, \n",
    "        initial=f\"{TRAIN_SIZE} days\", \n",
    "        period=f\"{TEST_SIZE} days\", \n",
    "        horizon=f\"{TEST_SIZE} days\"\n",
    "    )\n",
    "    df_performance = performance_metrics(df_cv, metrics=[\"mape\", \"smape\"])\n",
    "\n",
    "    # Get and store lowest 14 days prediction mape and rmse value\n",
    "    mape_value = df_performance[df_performance[\"horizon\"] == f\"{TEST_SIZE} days\"][\"mape\"].values[0]\n",
    "    smape_value = df_performance[df_performance[\"horizon\"] == f\"{TEST_SIZE} days\"][\"smape\"].values[0]\n",
    "\n",
    "    if mape_value < lowest_mape:\n",
    "        lowest_mape = mape_value\n",
    "        opt_params_mape = params\n",
    "\n",
    "    if smape_value < lowest_smape:\n",
    "        lowest_smape = smape_value\n",
    "        opt_params_smape = params\n",
    "    \n",
    "    results.append({\n",
    "        \"params\": params,\n",
    "        \"mape\": mape_value,\n",
    "        \"smape\": smape_value\n",
    "    })\n",
    "    \n",
    "end_time = time.time()\n"
   ]
  },
  {
   "cell_type": "code",
   "execution_count": null,
   "id": "e8782093-fdbb-4586-8c4d-92d5add9580b",
   "metadata": {
    "language": "python",
    "name": "cell37"
   },
   "outputs": [],
   "source": [
    "print(f\"Prophet autotuning time: {end_time - start_time} seconds\")"
   ]
  },
  {
   "cell_type": "markdown",
   "id": "6f0780be-0c4f-4482-8c7c-f700ec977217",
   "metadata": {
    "collapsed": false,
    "name": "cell32"
   },
   "source": [
    "- Plot MAPE & SMAPE values overtime"
   ]
  },
  {
   "cell_type": "code",
   "execution_count": null,
   "id": "5c2eff8d-af93-4293-b31f-aef61ec980f4",
   "metadata": {
    "language": "python",
    "name": "cell33"
   },
   "outputs": [],
   "source": [
    "# Plot MAPE and SMAPE values from grid search results\n",
    "fig_1, axs = plt.subplots(1,2)\n",
    "fig_1.tight_layout()\n",
    "\n",
    "mape_values = [result[\"mape\"] for result in results]\n",
    "smape_values = [result[\"smape\"] for result in results]\n",
    "\n",
    "axs[0].plot(mape_values)\n",
    "axs[0].set_title(\"Overall MAPE values\")\n",
    "\n",
    "axs[1].plot(smape_values)\n",
    "axs[1].set_title(\"Overall SMAPE values\")\n",
    "\n",
    "plt.show()"
   ]
  },
  {
   "cell_type": "markdown",
   "id": "34d93663-6de0-4b46-8182-e6eea34e3558",
   "metadata": {
    "collapsed": false,
    "name": "cell13"
   },
   "source": [
    "- Best parameter combinations\n",
    "\n"
   ]
  },
  {
   "cell_type": "code",
   "execution_count": null,
   "id": "286d146e-254e-4741-a6d0-cb0201fc4f34",
   "metadata": {
    "language": "python",
    "name": "cell14"
   },
   "outputs": [],
   "source": [
    "import json\n",
    "\n",
    "print(f\"Best MAPE parameter combinations: ({json.dumps(opt_params_mape, indent=4)})\")\n",
    "print(f\"Lowest MAPE value: {lowest_mape}\")\n",
    "\n",
    "print(f\"Best SMAPE parameter combinations: ({json.dumps(opt_params_smape, indent=4)})\")\n",
    "print(f\"Lowest SMAPE value: {lowest_smape}\")\n",
    "\n",
    "# Storage of optimal parameters \n",
    "opt_params_mape = {'changepoint_prior_scale': 0.05, 'growth': 'logistic', 'seasonality_mode': 'multiplicative', 'seasonality_prior_scale': 0.1, 'weekly_seasonality': 5}\n",
    "opt_params_smape = {'changepoint_prior_scale': 0.05, 'growth': 'logistic', 'seasonality_mode': 'multiplicative', 'seasonality_prior_scale': 0.1, 'weekly_seasonality': 5}\n",
    "\n",
    "opt_params = opt_params_mape"
   ]
  },
  {
   "cell_type": "markdown",
   "id": "f48c19bd-9c9e-4635-921f-8e2e67a0e97c",
   "metadata": {
    "collapsed": false,
    "name": "cell15"
   },
   "source": [
    "- observe changepoints and trend over time"
   ]
  },
  {
   "cell_type": "code",
   "execution_count": null,
   "id": "a2adcda6-f618-4de3-be6f-ff3f36334a8d",
   "metadata": {
    "language": "python",
    "name": "cell16"
   },
   "outputs": [],
   "source": [
    "# Fit Prophet model with MAPE-optimized parameters\n",
    "model_mape = Prophet(**opt_params_mape)\n",
    "model_mape.fit(data)\n",
    "\n",
    "df_future = model_mape.make_future_dataframe(periods=0, freq=\"D\")\n",
    "df_future[\"floor\"] = FLOOR\n",
    "df_future[\"cap\"] = CAP\n",
    "prediction_mape = model_mape.predict(df_future)\n",
    "\n",
    "# Plot MAPE model predictions and changepoints\n",
    "fig_mape = model_mape.plot(prediction_mape)\n",
    "plot_changepoint = add_changepoints_to_plot(fig_mape.gca(), model_mape, prediction_mape)\n",
    "\n",
    "# Fit Prophet model with SMAPE-optimized parameters\n",
    "model_smape = Prophet(**opt_params_smape)\n",
    "model_smape.fit(data)\n",
    "\n",
    "df_future = model_smape.make_future_dataframe(periods=0, freq=\"D\")\n",
    "df_future[\"floor\"] = FLOOR\n",
    "df_future[\"cap\"] = CAP\n",
    "prediction_smape = model_smape.predict(df_future)\n",
    "\n",
    "# Plot SMAPE model predictions and changepoints\n",
    "fig_smape = model_smape.plot(prediction_smape)\n",
    "plot_changepoint = add_changepoints_to_plot(fig_smape.gca(), model_smape, prediction_smape)"
   ]
  },
  {
   "cell_type": "markdown",
   "id": "3371b740-db05-4c08-b4c5-43a6f33ff545",
   "metadata": {
    "collapsed": false,
    "name": "cell17"
   },
   "source": [
    "- Plot MAPE & SMAPE validation error across time horizon"
   ]
  },
  {
   "cell_type": "code",
   "execution_count": null,
   "id": "231b9228-bead-4026-adf0-2ecc84de0d3d",
   "metadata": {
    "codeCollapsed": false,
    "collapsed": false,
    "language": "python",
    "name": "cell18"
   },
   "outputs": [],
   "source": [
    "# Fit Prophet model with optimal parameters for cross validation\n",
    "model_1 = Prophet(**opt_params)\n",
    "model_1.fit(data)\n",
    "\n",
    "# Obtain and plot daily cross validation error\n",
    "df_cv = cross_validation(\n",
    "    model_1, \n",
    "    initial=f\"{TRAIN_SIZE} days\", \n",
    "    period=f\"{TEST_SIZE} days\", \n",
    "    horizon=f\"{TEST_SIZE} days\"\n",
    ")\n",
    "\n",
    "plot_cross_validation_metric(df_cv, metric = \"mape\")"
   ]
  },
  {
   "cell_type": "code",
   "execution_count": null,
   "id": "04e9c429-bd78-4089-8251-0fb08b1db5f7",
   "metadata": {
    "language": "python",
    "name": "cell19"
   },
   "outputs": [],
   "source": [
    "plot_cross_validation_metric(df_cv, metric = \"smape\")"
   ]
  },
  {
   "cell_type": "markdown",
   "id": "e9675ffc-8f4e-4e62-be5a-13bdea4cf352",
   "metadata": {
    "collapsed": false,
    "name": "cell20"
   },
   "source": [
    "### 5. Predict last 14 days"
   ]
  },
  {
   "cell_type": "code",
   "execution_count": null,
   "id": "4d6201a1-0dd6-4b58-b070-edce6a49310a",
   "metadata": {
    "language": "python",
    "name": "cell21"
   },
   "outputs": [],
   "source": [
    "# Train Prophet model on the last 56 days and make predictions for 14 days ahead\n",
    "train_data = data[-TRAIN_SIZE:]\n",
    "\n",
    "start_time = time.time()\n",
    "model = Prophet(**opt_params)\n",
    "model.fit(train_data)\n",
    "end_time = time.time()\n",
    "\n",
    "print(f\"Prophet model fitting time: {end_time - start_time} seconds\")\n",
    "\n",
    "\n",
    "df_future = model_1.make_future_dataframe(periods=TEST_SIZE, freq=\"D\")\n",
    "df_future[\"floor\"] = FLOOR\n",
    "df_future[\"cap\"] = CAP\n",
    "prophet_predictions = model.predict(df_future)\n",
    "\n",
    "predictions = prophet_predictions[\"yhat\"].iloc[-TEST_SIZE:].values\n",
    "val_data = data[\"y\"].iloc[-TEST_SIZE:]"
   ]
  },
  {
   "cell_type": "markdown",
   "id": "68e3011d-fd75-4a94-9583-795279b28cb2",
   "metadata": {
    "collapsed": false,
    "name": "cell24"
   },
   "source": [
    "- Calculate MAPE and SMAPE for last 14 days"
   ]
  },
  {
   "cell_type": "code",
   "execution_count": null,
   "id": "6aed5f36-cf58-4e27-80ad-b0d91974d455",
   "metadata": {
    "language": "python",
    "name": "cell22"
   },
   "outputs": [],
   "source": [
    "mape = MAPE_metrics(test_set[\"y\"], predictions)\n",
    "smape = calculate_smape(test_set[\"y\"], predictions)\n",
    "\n",
    "print(f\"MAPE value for last 14 days prediction: {mape}\")\n",
    "print(f\"SMAPE value for last 14 days prediction: {smape}\")"
   ]
  },
  {
   "cell_type": "markdown",
   "id": "82f4607b-3923-4169-be75-06a7230dad60",
   "metadata": {
    "name": "cell23"
   },
   "source": [
    "- Plot prediction vs actual graph"
   ]
  },
  {
   "cell_type": "code",
   "execution_count": null,
   "id": "694545cc-db4b-4ee0-a088-9dcfcb3a1166",
   "metadata": {
    "language": "python",
    "name": "cell25"
   },
   "outputs": [],
   "source": [
    "plot_graph(train_data[\"y\"], test_set[\"y\"], predictions)"
   ]
  },
  {
   "cell_type": "markdown",
   "id": "e176e67b-eb4f-434d-84d4-52bbb588cb7e",
   "metadata": {
    "collapsed": false,
    "name": "cell26"
   },
   "source": [
    "### 6. Expanding window model\n",
    "\n",
    "Optimal results:\n",
    "- MAPE value: 0.0346\n",
    "- SMAPE value: 3.4115\n",
    "- Tuning time: 41.846s\n",
    "- Fitting time: 0.0626s"
   ]
  },
  {
   "cell_type": "code",
   "execution_count": null,
   "id": "976ea2ce-733a-49c1-9687-f1aae39a1601",
   "metadata": {
    "codeCollapsed": false,
    "collapsed": true,
    "language": "python",
    "name": "cell27"
   },
   "outputs": [],
   "source": [
    "# Expanding window cross-validation with 14-day frequency\n",
    "# For each window:\n",
    "# 1. Train Prophet model on data up to current date\n",
    "# 2. Perform cross-validation and calculate performance metrics\n",
    "# 3. Store MAPE and SMAPE values for analysis\n",
    "EXPANDING_WINDOW_FREQ = \"14D\"\n",
    "\n",
    "ew_data = data.sort_values(\"ds\")\n",
    "ew_data[\"ds\"] = pd.to_datetime(ew_data[\"ds\"])\n",
    "\n",
    "start_date = ew_data[\"ds\"].min() + pd.Timedelta(days=TEST_SIZE*4)\n",
    "end_date = ew_data[\"ds\"].max() - pd.Timedelta(days=TEST_SIZE)\n",
    "\n",
    "MAPE_values_ew = []\n",
    "SMAPE_values_ew = []\n",
    "\n",
    "start_time = time.time()\n",
    "for date in pd.date_range(start_date, end_date, freq=EXPANDING_WINDOW_FREQ):\n",
    "    ew_train = ew_data.loc[ew_data[\"ds\"] < date + pd.offsets.Day(TEST_SIZE+1)]\n",
    "\n",
    "    # Fit model\n",
    "    model_3 = Prophet(**opt_params)\n",
    "    model_3.fit(ew_train)\n",
    "\n",
    "    # Perform cross validation\n",
    "    df_cv = cross_validation(\n",
    "        model_3,\n",
    "        initial=f\"{TRAIN_SIZE} days\", \n",
    "        period=f\"{TEST_SIZE} days\", \n",
    "        horizon=f\"{TEST_SIZE} days\"\n",
    "    )\n",
    "\n",
    "    df_performance = performance_metrics(df_cv, metrics=[\"mape\", \"smape\"])\n",
    "\n",
    "    # Store MAPE & SMAPE values\n",
    "    mape_value = df_performance[df_performance[\"horizon\"] == f\"{TEST_SIZE} days\"][\"mape\"].values[0]\n",
    "    smape_value = df_performance[df_performance[\"horizon\"] == f\"{TEST_SIZE} days\"][\"smape\"].values[0]\n",
    "\n",
    "    MAPE_values_ew.append(mape_value)\n",
    "    SMAPE_values_ew.append(smape_value)\n",
    "\n",
    "end_time = time.time()"
   ]
  },
  {
   "cell_type": "code",
   "execution_count": null,
   "id": "507cedba-32d5-4559-9b69-6c1da3afd96f",
   "metadata": {
    "language": "python",
    "name": "cell38"
   },
   "outputs": [],
   "source": [
    "print(f\"Prophet EW autotuning time: {end_time - start_time} seconds\")\n"
   ]
  },
  {
   "cell_type": "markdown",
   "id": "187a0a68-77ee-47b3-ba26-896c6400d69c",
   "metadata": {
    "collapsed": false,
    "name": "cell28"
   },
   "source": [
    "- Plot MAPE & SMAPE values overtime."
   ]
  },
  {
   "cell_type": "code",
   "execution_count": null,
   "id": "cdd50aa9-dc6b-403e-a68d-4337c3f3d2c7",
   "metadata": {
    "language": "python",
    "name": "cell29"
   },
   "outputs": [],
   "source": [
    "fig_1, axs = plt.subplots(1,2)\n",
    "fig_1.tight_layout()\n",
    "\n",
    "axs[0].plot(MAPE_values_ew)\n",
    "axs[0].set_title(\"Overall MAPE values (Expanding Window)\")\n",
    "\n",
    "axs[1].plot(SMAPE_values_ew)\n",
    "axs[1].set_title(\"Overall SMAPE values (Expanding Window)\")\n",
    "\n",
    "plt.show()"
   ]
  },
  {
   "cell_type": "markdown",
   "id": "30496416-1bdd-4e6c-af9b-3236be5c276e",
   "metadata": {
    "collapsed": false,
    "name": "cell30"
   },
   "source": [
    "- Predict last 14 days"
   ]
  },
  {
   "cell_type": "code",
   "execution_count": null,
   "id": "86fe413e-cbed-418b-af4e-5074ab491db7",
   "metadata": {
    "language": "python",
    "name": "cell31"
   },
   "outputs": [],
   "source": [
    "# Train Prophet model with optimized parameters and uses entire dataset for training \n",
    "# to make predictions for the last 14 days\n",
    "train_data = data\n",
    "\n",
    "start_time = time.time()\n",
    "model = Prophet(**opt_params)\n",
    "model.fit(train_data)\n",
    "end_time = time.time()\n",
    "\n",
    "print(f\"Prophet EW model fitting time: {end_time - start_time} seconds\")\n",
    "\n",
    "df_future = model.make_future_dataframe(periods=TEST_SIZE, freq=\"D\")\n",
    "df_future[\"floor\"] = FLOOR\n",
    "df_future[\"cap\"] = CAP\n",
    "prophet_predictions = model.predict(df_future)\n",
    "\n",
    "predictions = prophet_predictions[\"yhat\"].iloc[-TEST_SIZE:].values\n",
    "val_data = data[\"y\"].iloc[-TEST_SIZE:]"
   ]
  },
  {
   "cell_type": "code",
   "execution_count": null,
   "id": "b0d846ae-d353-4a9b-87b0-88b9f648604f",
   "metadata": {
    "language": "python",
    "name": "cell34"
   },
   "outputs": [],
   "source": [
    "mape = MAPE_metrics(test_set[\"y\"], predictions)\n",
    "smape = calculate_smape(test_set[\"y\"], predictions)\n",
    "\n",
    "print(f\"MAPE value for last 14 days prediction: {mape}\")\n",
    "print(f\"SMAPE value for last 14 days prediction: {smape}\")"
   ]
  },
  {
   "cell_type": "code",
   "execution_count": null,
   "id": "4bc855da-ad58-444d-9d99-5fe8b007e102",
   "metadata": {
    "language": "python",
    "name": "cell35"
   },
   "outputs": [],
   "source": [
    "plot_graph(train_data[\"y\"].iloc[-56:], test_set[\"y\"], predictions)"
   ]
  },
  {
   "cell_type": "markdown",
   "id": "3ab41bec-834a-41ae-bada-1cc742fabe32",
   "metadata": {
    "collapsed": false,
    "name": "cell42"
   },
   "source": [
    "# 7. Default parameters + multiplicative seasonality + logistic growth\n",
    "- Test the fitting time difference compared to using paramgrid\n",
    "\n",
    "Optimal results:\n",
    "- MAPE value: 0.0426\n",
    "- SMAPE value: 4.2647\n",
    "- Tuning time: -\n",
    "- Fitting time: 0.2943s"
   ]
  },
  {
   "cell_type": "code",
   "execution_count": null,
   "id": "af75c111-b7b6-474e-8023-770ca755afdd",
   "metadata": {
    "language": "python",
    "name": "cell39"
   },
   "outputs": [],
   "source": [
    "# Train Prophet model with default parameters, multiplicative seasonality and logistic growth\n",
    "# Make predictions for the last 14 days using the last 14 days of data\n",
    "train_data = data[-TRAIN_SIZE:]\n",
    "\n",
    "start_time = time.time()\n",
    "model = Prophet(\n",
    "    seasonality_mode=\"multiplicative\",\n",
    "    growth=\"logistic\"\n",
    ")\n",
    "model.fit(train_data)\n",
    "end_time = time.time()\n",
    "\n",
    "print(f\"Prophet model fitting time: {end_time - start_time} seconds\")\n",
    "\n",
    "\n",
    "df_future = model.make_future_dataframe(periods=TEST_SIZE, freq=\"D\")\n",
    "df_future[\"floor\"] = FLOOR\n",
    "df_future[\"cap\"] = CAP\n",
    "prophet_predictions = model.predict(df_future)\n",
    "\n",
    "predictions = prophet_predictions[\"yhat\"].iloc[-TEST_SIZE:].values\n",
    "val_data = data[\"y\"].iloc[-TEST_SIZE:]"
   ]
  },
  {
   "cell_type": "code",
   "execution_count": null,
   "id": "eae00d64-7b6b-47a6-a53e-3751c47582c2",
   "metadata": {
    "language": "python",
    "name": "cell40"
   },
   "outputs": [],
   "source": [
    "mape = MAPE_metrics(test_set[\"y\"], predictions)\n",
    "smape = calculate_smape(test_set[\"y\"], predictions)\n",
    "\n",
    "print(f\"MAPE value for last 14 days prediction: {mape}\")\n",
    "print(f\"SMAPE value for last 14 days prediction: {smape}\")"
   ]
  },
  {
   "cell_type": "code",
   "execution_count": null,
   "id": "cedb05bc-7790-45f7-bc6e-36417c00479b",
   "metadata": {
    "language": "python",
    "name": "cell41"
   },
   "outputs": [],
   "source": [
    "plot_graph(train_data[\"y\"], test_set[\"y\"], predictions)"
   ]
  },
  {
   "cell_type": "markdown",
   "id": "7b02c9a1-8553-42ba-9c7a-29787ca799f4",
   "metadata": {
    "collapsed": false,
    "name": "cell43"
   },
   "source": [
    "### 8. Test out model performance on z-score filtered dataset"
   ]
  },
  {
   "cell_type": "code",
   "execution_count": null,
   "id": "3dfabf99-8879-4775-a1db-d30b801d3677",
   "metadata": {
    "language": "python",
    "name": "cell45"
   },
   "outputs": [],
   "source": [
    "z_score_data = session.table(\"store_2_z_score_preprocessed_transactions\")\n",
    "z_score_data = z_score_data.to_pandas()\n",
    "z_score_data = z_score_data[[\"DATE\", \"TOTAL_SALES\"]]\n",
    "z_score_data[\"DATE\"] = pd.to_datetime(z_score_data[\"DATE\"])\n",
    "z_score_data = z_score_data.sort_values(by='DATE', ignore_index=True)\n",
    "\n",
    "# Date needs to be renamed as \"ds\" and sales have to be renamed as \"y\"\n",
    "z_score_data = z_score_data.rename(columns={\"DATE\": \"ds\"})\n",
    "z_score_data = z_score_data.rename(columns={\"TOTAL_SALES\": \"y\"})\n",
    "\n",
    "FLOOR = 0\n",
    "CAP = z_score_data[\"y\"].max()\n",
    "\n",
    "z_score_data[\"floor\"] = 0\n",
    "z_score_data[\"cap\"] = CAP\n",
    "\n",
    "# Split train test set\n",
    "test_set = z_score_data.iloc[-TEST_SIZE:]\n",
    "z_score_data = z_score_data.iloc[:-TEST_SIZE]"
   ]
  },
  {
   "cell_type": "code",
   "execution_count": null,
   "id": "39af1fb0-5342-4b56-9251-4bf0b29d4dcc",
   "metadata": {
    "language": "python",
    "name": "cell44"
   },
   "outputs": [],
   "source": [
    "# Train Prophet model on z-score filtered data and generate predictions\n",
    "# Uses logistic growth with multiplicative seasonality to fit the model\n",
    "# Generates predictions for the last 14 days\n",
    "train_data = z_score_data[-TRAIN_SIZE:]\n",
    "\n",
    "start_time = time.time()\n",
    "model = Prophet(\n",
    "    seasonality_mode=\"multiplicative\",\n",
    "    growth=\"logistic\"\n",
    ")\n",
    "model.fit(train_data)\n",
    "end_time = time.time()\n",
    "\n",
    "print(f\"Prophet model fitting time: {end_time - start_time} seconds\")\n",
    "\n",
    "\n",
    "df_future = model.make_future_dataframe(periods=TEST_SIZE, freq=\"D\")\n",
    "df_future[\"floor\"] = FLOOR\n",
    "df_future[\"cap\"] = CAP\n",
    "prophet_predictions = model.predict(df_future)\n",
    "\n",
    "z_predictions = prophet_predictions[\"yhat\"].iloc[-TEST_SIZE:].values\n"
   ]
  },
  {
   "cell_type": "code",
   "execution_count": null,
   "id": "7aab0608-f4e6-403a-8f2f-27ca9985042a",
   "metadata": {
    "language": "python",
    "name": "cell46"
   },
   "outputs": [],
   "source": [
    "mape = MAPE_metrics(test_set[\"y\"], z_predictions)\n",
    "smape = calculate_smape(test_set[\"y\"], z_predictions)\n",
    "\n",
    "print(f\"MAPE value for last 14 days prediction: {mape}\")\n",
    "print(f\"SMAPE value for last 14 days prediction: {smape}\")"
   ]
  },
  {
   "cell_type": "code",
   "execution_count": null,
   "id": "00938030-097e-46b2-98c7-490bdd726d00",
   "metadata": {
    "language": "python",
    "name": "cell47"
   },
   "outputs": [],
   "source": [
    "plot_graph(train_data[\"y\"], test_set[\"y\"], z_predictions)"
   ]
  },
  {
   "cell_type": "code",
   "execution_count": null,
   "id": "7d2e783b-9854-4ed0-8365-ace997509bb6",
   "metadata": {
    "language": "python",
    "name": "cell36"
   },
   "outputs": [],
   "source": [
    "session.close()\n"
   ]
  }
 ],
 "metadata": {
  "kernelspec": {
   "display_name": "Streamlit Notebook",
   "name": "streamlit"
  }
 },
 "nbformat": 4,
 "nbformat_minor": 5
}
