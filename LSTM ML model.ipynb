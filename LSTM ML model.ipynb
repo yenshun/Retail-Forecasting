{
 "cells": [
  {
   "cell_type": "markdown",
   "id": "0bb2a00b-1c8c-4858-9316-7c1ed869450d",
   "metadata": {
    "collapsed": false,
    "name": "cell1",
    "resultHeight": 272
   },
   "source": [
    "# LSTM model\n",
    "\n",
    "Overall Process:\n",
    "- LSTM model - Sales & Flag Weekend features\n",
    "- LSTM/CNN model - Sales & Flag Weekend features\n",
    "- LSTM model - Sales feature only\n",
    "- LSTM/CNN model - Sales feature only\n",
    "\n",
    "Packages:\n",
    "1. pandas\n",
    "2. numpy\n",
    "3. scikit-learn\n",
    "4. tensorflow\n",
    "5. matplotlib"
   ]
  },
  {
   "cell_type": "code",
   "execution_count": null,
   "id": "a74d04a9-62fd-4c9a-afdf-4cd9d968a72d",
   "metadata": {
    "language": "python",
    "name": "cell2",
    "resultHeight": 0
   },
   "outputs": [],
   "source": [
    "import time\n",
    "import pandas as pd\n",
    "import numpy as np\n",
    "import matplotlib.pyplot as plt\n",
    "\n",
    "from tensorflow.keras.models import Sequential\n",
    "from tensorflow.keras.layers import LSTM\n",
    "from tensorflow.keras.layers import Dense\n",
    "from tensorflow.keras.layers import Dropout\n",
    "from tensorflow.keras.layers import Conv1D\n",
    "from tensorflow.keras.layers import MaxPooling1D\n",
    "from sklearn.metrics import mean_absolute_percentage_error as MAPE_metrics\n",
    "from sklearn.preprocessing import StandardScaler\n",
    "\n",
    "# Prediction timeframe: 14 days\n",
    "# Training timeframe: 56 days (4 weeks)\n",
    "TEST_SIZE = 14\n",
    "TRAIN_SIZE = TEST_SIZE * 4\n",
    "\n",
    "session = get_active_session()\n",
    "session.use_database(\"ml\")\n",
    "session.use_schema(\"retail_store\")\n",
    "\n",
    "transactions_df = session.table(\"store_2_preprocessed_transactions\")\n",
    "transactions_df = transactions_df.to_pandas()\n",
    "transactions_df = transactions_df.drop(\"STORE_CHAIN_ID\", axis=1)\n",
    "transactions_df[\"DATE\"] = pd.to_datetime(transactions_df[\"DATE\"])\n",
    "transactions_df = transactions_df.sort_values(by='DATE')\n",
    "transactions_df.set_index(\"DATE\", inplace=True)"
   ]
  },
  {
   "cell_type": "markdown",
   "id": "4e753d3d-9b3c-42f8-b563-5cac572b64c0",
   "metadata": {
    "collapsed": false,
    "name": "cell3",
    "resultHeight": 44
   },
   "source": [
    "- Functions for future use"
   ]
  },
  {
   "cell_type": "code",
   "execution_count": null,
   "id": "f1402a6b-0661-480e-a4bb-11d6a3d308a4",
   "metadata": {
    "language": "python",
    "name": "cell4",
    "resultHeight": 0
   },
   "outputs": [],
   "source": [
    "def plot_graph(train_values, actual_values, predictions):\n",
    "    \"\"\"\n",
    "    Plot a graph showing train data, actual values and predictions.\n",
    "    \n",
    "    The function plots three lines:\n",
    "    1. Training data values\n",
    "    2. Actual test values \n",
    "    3. Predicted values\n",
    "    \n",
    "    The x-axis represents time steps and y-axis represents the values.\n",
    "\n",
    "    Args:\n",
    "        train_values: Array of training data values to plot\n",
    "        actual_values: Array of actual test values to plot\n",
    "        predictions: Array of predicted values to plot\n",
    "    \"\"\"\n",
    "    x_train = np.linspace(0, len(train_values), len(train_values))\n",
    "    x = np.linspace(len(train_values), len(train_values) + len(actual_values), len(actual_values))\n",
    "\n",
    "    plt.plot(x_train, train_values)\n",
    "    plt.plot(x, actual_values)\n",
    "    plt.plot(x, predictions)\n",
    "    plt.legend([\"Train Data\", \"Actual Sales\", \"Predictions\"])\n",
    "\n",
    "    return\n",
    "\n",
    "\n",
    "def calculate_smape(actual_values, predictions):\n",
    "    \"\"\"\n",
    "    Calculate Symmetric Mean Absolute Percentage Error (SMAPE) between actual and predicted values.\n",
    "    \n",
    "    Args:\n",
    "        actual_values: Array of actual values\n",
    "        predictions: Array of predicted values\n",
    "        \n",
    "    Returns:\n",
    "        float: SMAPE score as a percentage between 0 and 100\n",
    "    \"\"\"\n",
    "    return 100/len(actual_values) * np.sum(2 * np.abs(predictions - actual_values) / (np.abs(actual_values) + np.abs(predictions)))\n",
    "\n",
    "\n",
    "def create_sequences(data, past_days=TRAIN_SIZE, future_days=TEST_SIZE):\n",
    "    \"\"\"\n",
    "    Create sequences of past data and future values for time series prediction.\n",
    "    \n",
    "    Args:\n",
    "        data: Time series dataframe\n",
    "        past_days: Number of past days to use as input features (default: TRAIN_SIZE)\n",
    "        future_days: Number of future days to predict (default: TEST_SIZE)\n",
    "        \n",
    "    Returns:\n",
    "        tuple: (X, y) where:\n",
    "            X: Training data\n",
    "            y: Validation data\n",
    "    \"\"\"\n",
    "    X, y = [], []\n",
    "\n",
    "    for i in range(past_days, len(data) - future_days + 1):\n",
    "        X.append(data[i - past_days:i])\n",
    "        y.append(data[i:i + future_days, 0])\n",
    "        \n",
    "    return np.array(X), np.array(y)"
   ]
  },
  {
   "cell_type": "markdown",
   "id": "5712eab1-cd50-456a-b034-47b40d15c4ce",
   "metadata": {
    "collapsed": false,
    "name": "cell7",
    "resultHeight": 107
   },
   "source": [
    "## LSTM & LSTM/CNN - Sales & Flag Weekend\n",
    "### 1. Prepare sequences for LSTM (past 2 months to predict future fortnight)\n",
    "\n",
    "Optimal results (LSTM):\n",
    "- MAPE value: 0.0687\n",
    "- SMAPE value: 6.770\n",
    "- Tuning time: 48.833s\n",
    "- Fitting time: 0.52s\n",
    "\n",
    "Optimal results (LSTM/CNN):\n",
    "- MAPE value: 0.0946\n",
    "- SMAPE value: 9.048\n",
    "- Tuning time: 40.766s\n",
    "- Fitting time: 0.62s"
   ]
  },
  {
   "cell_type": "code",
   "execution_count": null,
   "id": "7aff1d97-3863-4b70-877b-f2bcb97cb5b2",
   "metadata": {
    "language": "python",
    "name": "cell8",
    "resultHeight": 0
   },
   "outputs": [],
   "source": [
    "# Extracting daily sales and flag weekend features\n",
    "features = [\"TOTAL_SALES\", \"FLAG_WEEKEND\"]\n",
    "data = transactions_df[features].values\n",
    "\n",
    "# Scaling the sales data only\n",
    "scaler = StandardScaler()\n",
    "scaled_sales_data = scaler.fit_transform(data[:,[0]])\n",
    "\n",
    "# Combine scaled sales data with binary flag weekend feature\n",
    "flag_weekend = data[:,[1]]\n",
    "data = np.hstack([scaled_sales_data, flag_weekend])\n",
    "\n",
    "# Create input sequence for LSTM model\n",
    "X, y = create_sequences(data)"
   ]
  },
  {
   "cell_type": "markdown",
   "id": "f45564c6-3399-4814-8eff-645df92ec83d",
   "metadata": {
    "collapsed": false,
    "name": "cell9",
    "resultHeight": 46
   },
   "source": [
    "### 2. Create LSTM model & LSTM/CNN combination model"
   ]
  },
  {
   "cell_type": "code",
   "execution_count": null,
   "id": "a6384557-3e22-455e-bfe3-4f828a06f3c4",
   "metadata": {
    "language": "python",
    "name": "cell10",
    "resultHeight": 994
   },
   "outputs": [],
   "source": [
    "# LSTM model\n",
    "lstm_model = Sequential()\n",
    "lstm_model.add(LSTM(256, return_sequences=True, input_shape=(X.shape[1], X.shape[2])))\n",
    "lstm_model.add(Dropout(0.2))\n",
    "lstm_model.add(LSTM(128))\n",
    "lstm_model.add(Dropout(0.2))\n",
    "lstm_model.add(Dense(TEST_SIZE))  \n",
    "lstm_model.compile(optimizer='adam', loss='mse')\n",
    "lstm_model.summary()\n",
    "\n",
    "\n",
    "# LSTM/CNN combination model\n",
    "lstm_cnn_model = Sequential()\n",
    "lstm_cnn_model.add(Conv1D(filters=128, kernel_size=5, input_shape=(X.shape[1], X.shape[2])))\n",
    "lstm_cnn_model.add(MaxPooling1D(pool_size=2))\n",
    "lstm_cnn_model.add(LSTM(256, return_sequences=True, input_shape=(X.shape[1], X.shape[2])))\n",
    "lstm_cnn_model.add(Dropout(0.2))\n",
    "lstm_cnn_model.add(LSTM(128))\n",
    "lstm_cnn_model.add(Dropout(0.2))\n",
    "lstm_cnn_model.add(Dense(TEST_SIZE)) \n",
    "lstm_cnn_model.compile(optimizer='adam', loss='mse')\n",
    "lstm_cnn_model.summary()"
   ]
  },
  {
   "cell_type": "markdown",
   "id": "3085a61e-9a3d-4f3c-9353-7d4579048958",
   "metadata": {
    "collapsed": false,
    "name": "cell11",
    "resultHeight": 46
   },
   "source": [
    "### 3. Train the LSTM & LSTM/CNN model"
   ]
  },
  {
   "cell_type": "code",
   "execution_count": null,
   "id": "c129f196-8d07-437d-9ffa-09d184a585f5",
   "metadata": {
    "codeCollapsed": false,
    "collapsed": false,
    "language": "python",
    "name": "cell12",
    "resultHeight": 1023
   },
   "outputs": [],
   "source": [
    "# Fit LSTM model\n",
    "lstm_start_time = time.time()\n",
    "lstm_model.fit(X, y, epochs=10, validation_split=0.2)\n",
    "lstm_end_time = time.time()\n",
    "\n",
    "\n",
    "# Fit LSTM/CNN combination model\n",
    "lstm_cnn_start_time = time.time()\n",
    "lstm_cnn_model.fit(X, y, epochs=10, validation_split=0.2)\n",
    "lstm_cnn_end_time = time.time()"
   ]
  },
  {
   "cell_type": "code",
   "execution_count": null,
   "id": "7770abd2-600e-4b8b-89c3-bf94ddc90565",
   "metadata": {
    "language": "python",
    "name": "cell24",
    "resultHeight": 60
   },
   "outputs": [],
   "source": [
    "training_time = lstm_end_time - lstm_start_time\n",
    "print(f\"LSTM model training time: {training_time :.3f}\")\n",
    "\n",
    "training_time = lstm_cnn_end_time - lstm_cnn_start_time\n",
    "print(f\"LSTM/CNN model training time: {training_time :.3f}\")"
   ]
  },
  {
   "cell_type": "markdown",
   "id": "97a7012e-3a8f-4a75-b02c-52c8cf5605ee",
   "metadata": {
    "collapsed": false,
    "name": "cell13",
    "resultHeight": 46
   },
   "source": [
    "### 4. Make and plot predictions"
   ]
  },
  {
   "cell_type": "code",
   "execution_count": null,
   "id": "1112bc71-0999-482d-bc48-27dd44652935",
   "metadata": {
    "language": "python",
    "name": "cell14",
    "resultHeight": 195
   },
   "outputs": [],
   "source": [
    "last_sequence = data[-TRAIN_SIZE:].reshape(1, TRAIN_SIZE, len(features)) \n",
    "\n",
    "# LSTM prediction\n",
    "start_time = time.time()\n",
    "lstm_predicted_values = lstm_model.predict(last_sequence)\n",
    "end_time = time.time()\n",
    "\n",
    "fitting_time = end_time - start_time\n",
    "print(f\"LSTM model fitting time: {fitting_time :.2f}\")\n",
    "\n",
    "# Inverse transform predictions to original scale\n",
    "lstm_predicted_values = lstm_predicted_values.reshape(-1, 1)\n",
    "lstm_predicted_values = scaler.inverse_transform(lstm_predicted_values).flatten()\n",
    "\n",
    "print(f\"LSTM sales prediction: {lstm_predicted_values}\")\n",
    "\n",
    "\n",
    "# LSTM/CNN prediction \n",
    "start_time = time.time()\n",
    "lstm_cnn_predicted_values = lstm_cnn_model.predict(last_sequence)\n",
    "end_time = time.time()\n",
    "\n",
    "fitting_time = end_time - start_time\n",
    "print(f\"LSTM model fitting time: {fitting_time :.2f}\")\n",
    "\n",
    "# Inverse transform predictions to original scale\n",
    "lstm_cnn_predicted_values = lstm_cnn_predicted_values.reshape(-1, 1)\n",
    "lstm_cnn_predicted_values = scaler.inverse_transform(lstm_cnn_predicted_values).flatten()\n",
    "\n",
    "print(f\"LSTM/CNN sales prediction: {lstm_cnn_predicted_values}\")\n"
   ]
  },
  {
   "cell_type": "code",
   "execution_count": null,
   "id": "b96e3448-5109-4814-9a20-f161f40316ce",
   "metadata": {
    "language": "python",
    "name": "cell15",
    "resultHeight": 858
   },
   "outputs": [],
   "source": [
    "# Plot LSTM prediction results\n",
    "train_values = transactions_df[\"TOTAL_SALES\"].iloc[-TEST_SIZE-TRAIN_SIZE:-TEST_SIZE]\n",
    "actual_values = transactions_df[\"TOTAL_SALES\"].iloc[-TEST_SIZE:]\n",
    "plot_graph(train_values, actual_values, lstm_predicted_values)"
   ]
  },
  {
   "cell_type": "code",
   "execution_count": null,
   "id": "032b711a-3285-4bd4-82a9-6a44e50eb1d4",
   "metadata": {
    "language": "python",
    "name": "cell30",
    "resultHeight": 41
   },
   "outputs": [],
   "source": [
    "# Plot LSTM/CNN prediction results\n",
    "train_values = transactions_df[\"TOTAL_SALES\"].iloc[-TEST_SIZE-TRAIN_SIZE:-TEST_SIZE]\n",
    "actual_values = transactions_df[\"TOTAL_SALES\"].iloc[-TEST_SIZE:]\n",
    "plot_graph(train_values, actual_values, lstm_cnn_predicted_values)"
   ]
  },
  {
   "cell_type": "markdown",
   "id": "e079f972-b9de-423f-99f2-f65e6c1ee4b6",
   "metadata": {
    "collapsed": false,
    "name": "cell5",
    "resultHeight": 46
   },
   "source": [
    "### 5. Calculate MAPE and SMAPE metrics"
   ]
  },
  {
   "cell_type": "code",
   "execution_count": null,
   "id": "4c3f69b2-0cff-401d-b4f2-1a6165760511",
   "metadata": {
    "language": "python",
    "name": "cell6",
    "resultHeight": 105
   },
   "outputs": [],
   "source": [
    "# LSTM result metrics\n",
    "mape = MAPE_metrics(actual_values, lstm_predicted_values)\n",
    "smape = calculate_smape(actual_values, lstm_predicted_values)\n",
    "\n",
    "print(f\"LSTM MAPE value for last 14 days prediction: {mape}\")\n",
    "print(f\"LSTM SMAPE value for last 14 days prediction: {smape}\")\n",
    "\n",
    "\n",
    "# LSTM/CNN result metrics\n",
    "mape = MAPE_metrics(actual_values, lstm_cnn_predicted_values)\n",
    "smape = calculate_smape(actual_values, lstm_cnn_predicted_values)\n",
    "\n",
    "print(f\"LSTM/CNN MAPE value for last 14 days prediction: {mape}\")\n",
    "print(f\"LSTM/CNN SMAPE value for last 14 days prediction: {smape}\")"
   ]
  },
  {
   "cell_type": "markdown",
   "id": "b49e9b5d-42ef-4cb4-804e-20e92fc5ef0b",
   "metadata": {
    "collapsed": false,
    "name": "cell22",
    "resultHeight": 107
   },
   "source": [
    "## LSTM - Sales\n",
    "### 1. Prepare sequences for LSTM (past 2 months to predict future fortnight)\n",
    "\n",
    "Optimal results (LSTM):\n",
    "- MAPE value: 0.058\n",
    "- SMAPE value: 5.637\n",
    "- Tuning time: 52.58s\n",
    "- Fitting time: 0.24s\n",
    "\n",
    "Optimal results (LSTM/CNN):\n",
    "- MAPE value: 0.053\n",
    "- SMAPE value: 5.193\n",
    "- Tuning time: 35.705s\n",
    "- Fitting time: 0.32s"
   ]
  },
  {
   "cell_type": "code",
   "execution_count": null,
   "id": "0cadd94e-911c-4748-98ea-f93845a9c86c",
   "metadata": {
    "codeCollapsed": false,
    "collapsed": false,
    "language": "python",
    "name": "cell16",
    "resultHeight": 0
   },
   "outputs": [],
   "source": [
    "# Selecting only the daily sales feature\n",
    "data = transactions_df[['TOTAL_SALES']].values\n",
    "\n",
    "# Scaling the data\n",
    "scaler = StandardScaler()\n",
    "data = scaler.fit_transform(data)\n",
    "\n",
    "X, y = create_sequences(data)"
   ]
  },
  {
   "cell_type": "markdown",
   "id": "e82ff2b2-8584-448c-84bd-0dd2f0532f0b",
   "metadata": {
    "collapsed": false,
    "name": "cell26",
    "resultHeight": 46
   },
   "source": [
    "### 2. Train the LSTM model"
   ]
  },
  {
   "cell_type": "code",
   "execution_count": null,
   "id": "af4174f9-7ac1-4e4c-82c9-65377156ff9c",
   "metadata": {
    "codeCollapsed": false,
    "collapsed": false,
    "language": "python",
    "name": "cell20",
    "resultHeight": 943
   },
   "outputs": [],
   "source": [
    "# Fit LSTM model\n",
    "lstm_start_time = time.time()\n",
    "lstm_model.fit(X, y, epochs=10, validation_split=0.2)\n",
    "lstm_end_time = time.time()\n",
    "\n",
    "\n",
    "# Fit LSTM/CNN combination model\n",
    "lstm_cnn_start_time = time.time()\n",
    "lstm_cnn_model.fit(X, y, epochs=10, validation_split=0.2)\n",
    "lstm_cnn_end_time = time.time()"
   ]
  },
  {
   "cell_type": "code",
   "execution_count": null,
   "id": "3d742595-a6d7-43dc-b3e2-27dea07330b5",
   "metadata": {
    "codeCollapsed": false,
    "collapsed": false,
    "language": "python",
    "name": "cell27",
    "resultHeight": 60
   },
   "outputs": [],
   "source": [
    "training_time = lstm_end_time - lstm_start_time\n",
    "print(f\"LSTM model training time: {training_time :.3f}\")\n",
    "\n",
    "training_time = lstm_cnn_end_time - lstm_cnn_start_time\n",
    "print(f\"LSTM/CNN model training time: {training_time :.3f}\")"
   ]
  },
  {
   "cell_type": "markdown",
   "id": "105e9f54-7011-4c71-bc51-f73cde4f2eeb",
   "metadata": {
    "collapsed": false,
    "name": "cell28",
    "resultHeight": 46
   },
   "source": [
    "### 3. Make and plot predictions\n"
   ]
  },
  {
   "cell_type": "code",
   "execution_count": null,
   "id": "de39a059-afc2-4365-82d6-99fa8d63f321",
   "metadata": {
    "language": "python",
    "name": "cell21",
    "resultHeight": 195
   },
   "outputs": [],
   "source": [
    "last_sequence = data[-TEST_SIZE*4:].reshape(1, TEST_SIZE*4, 1) \n",
    "\n",
    "# LSTM prediction\n",
    "start_time = time.time()\n",
    "lstm_predicted_values = lstm_model.predict(last_sequence)\n",
    "end_time = time.time()\n",
    "\n",
    "fitting_time = end_time - start_time\n",
    "print(f\"LSTM model fitting time: {fitting_time :.2f}\")\n",
    "\n",
    "# Inverse transform predictions to original scale\n",
    "lstm_predicted_values = lstm_predicted_values.reshape(-1, 1)\n",
    "lstm_predicted_values = scaler.inverse_transform(lstm_predicted_values).flatten()\n",
    "\n",
    "print(f\"LSTM sales prediction: {lstm_predicted_values}\")\n",
    "\n",
    "\n",
    "# LSTM/CNN prediction \n",
    "start_time = time.time()\n",
    "lstm_cnn_predicted_values = lstm_cnn_model.predict(last_sequence)\n",
    "end_time = time.time()\n",
    "\n",
    "fitting_time = end_time - start_time\n",
    "print(f\"LSTM model fitting time: {fitting_time :.2f}\")\n",
    "\n",
    "# Inverse transform predictions to original scale\n",
    "lstm_cnn_predicted_values = lstm_cnn_predicted_values.reshape(-1, 1)\n",
    "lstm_cnn_predicted_values = scaler.inverse_transform(lstm_cnn_predicted_values).flatten()\n",
    "\n",
    "print(f\"LSTM/CNN sales prediction: {lstm_cnn_predicted_values}\")"
   ]
  },
  {
   "cell_type": "code",
   "execution_count": null,
   "id": "67d94615-2fef-4b26-bf70-7ab687ee3e55",
   "metadata": {
    "language": "python",
    "name": "cell17",
    "resultHeight": 858
   },
   "outputs": [],
   "source": [
    "# Plot LSTM prediction results\n",
    "train_values = transactions_df[\"TOTAL_SALES\"].iloc[-TEST_SIZE-TRAIN_SIZE:-TEST_SIZE]\n",
    "actual_values = transactions_df[\"TOTAL_SALES\"].iloc[-TEST_SIZE:]\n",
    "plot_graph(train_values, actual_values, lstm_predicted_values)"
   ]
  },
  {
   "cell_type": "code",
   "execution_count": null,
   "id": "e2ff2042-9dc0-4f7b-995d-573e7a48a41a",
   "metadata": {
    "language": "python",
    "name": "cell19",
    "resultHeight": 858
   },
   "outputs": [],
   "source": [
    "# Plot LSTM/CNN prediction results\n",
    "train_values = transactions_df[\"TOTAL_SALES\"].iloc[-TEST_SIZE-TRAIN_SIZE:-TEST_SIZE]\n",
    "actual_values = transactions_df[\"TOTAL_SALES\"].iloc[-TEST_SIZE:]\n",
    "plot_graph(train_values, actual_values, lstm_cnn_predicted_values)"
   ]
  },
  {
   "cell_type": "markdown",
   "id": "a50d718a-aa15-492c-852f-bcfb044e367c",
   "metadata": {
    "collapsed": false,
    "name": "cell29",
    "resultHeight": 46
   },
   "source": [
    "### 4. Calculate MAPE and SMAPE metrics"
   ]
  },
  {
   "cell_type": "code",
   "execution_count": null,
   "id": "be9e34c4-e287-4ca6-8df7-bcc2e9516a1f",
   "metadata": {
    "language": "python",
    "name": "cell23",
    "resultHeight": 105
   },
   "outputs": [],
   "source": [
    "# LSTM result metrics\n",
    "\n",
    "mape = MAPE_metrics(actual_values, lstm_predicted_values)\n",
    "smape = calculate_smape(actual_values, lstm_predicted_values)\n",
    "\n",
    "print(f\"LSTM MAPE value for last 14 days prediction: {mape}\")\n",
    "print(f\"LSTM SMAPE value for last 14 days prediction: {smape}\")\n",
    "\n",
    "\n",
    "# LSTM/CNN result metrics\n",
    "mape = MAPE_metrics(actual_values, lstm_cnn_predicted_values)\n",
    "smape = calculate_smape(actual_values, lstm_cnn_predicted_values)\n",
    "\n",
    "print(f\"LSTM/CNN MAPE value for last 14 days prediction: {mape}\")\n",
    "print(f\"LSTM/CNN SMAPE value for last 14 days prediction: {smape}\")"
   ]
  }
 ],
 "metadata": {
  "kernelspec": {
   "display_name": "Streamlit Notebook",
   "name": "streamlit"
  }
 },
 "nbformat": 4,
 "nbformat_minor": 5
}
